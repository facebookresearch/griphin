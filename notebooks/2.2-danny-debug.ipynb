{
 "cells": [
  {
   "cell_type": "code",
   "execution_count": 1,
   "metadata": {
    "collapsed": true
   },
   "outputs": [
    {
     "data": {
      "text/plain": "Graph(num_nodes=2449029, num_edges=123718152,\n      ndata_schemes={}\n      edata_schemes={'w': Scheme(shape=(), dtype=torch.float32)})"
     },
     "execution_count": 1,
     "metadata": {},
     "output_type": "execute_result"
    }
   ],
   "source": [
    "import os\n",
    "import dgl\n",
    "import numpy as np\n",
    "\n",
    "(g,), _ = dgl.load_graphs(os.path.join('/data/gangda/graph_engine', 'ogbn-products', 'dgl_data_processed'))\n",
    "g"
   ]
  },
  {
   "cell_type": "code",
   "execution_count": 2,
   "outputs": [
    {
     "data": {
      "text/plain": "Graph(num_nodes=2449029, num_edges=123718280,\n      ndata_schemes={'feat': Scheme(shape=(100,), dtype=torch.float32)}\n      edata_schemes={})"
     },
     "execution_count": 2,
     "metadata": {},
     "output_type": "execute_result"
    }
   ],
   "source": [
    "from ogb.nodeproppred import DglNodePropPredDataset\n",
    "\n",
    "og, _ = DglNodePropPredDataset(name='ogbn-products', root='/data/gangda/dgl')[0]\n",
    "og"
   ],
   "metadata": {
    "collapsed": false
   }
  },
  {
   "cell_type": "code",
   "execution_count": 14,
   "outputs": [
    {
     "data": {
      "text/plain": "Graph(num_nodes=2449029, num_edges=123718152,\n      ndata_schemes={'feat': Scheme(shape=(100,), dtype=torch.float32)}\n      edata_schemes={})"
     },
     "execution_count": 14,
     "metadata": {},
     "output_type": "execute_result"
    }
   ],
   "source": [
    "g = dgl.to_bidirected(og, copy_ndata=True)\n",
    "g"
   ],
   "metadata": {
    "collapsed": false
   }
  },
  {
   "cell_type": "code",
   "execution_count": 7,
   "outputs": [],
   "source": [
    "import torch\n",
    "from torch_geometric.loader import NeighborLoader\n",
    "import sklearn\n",
    "from ogb.nodeproppred import DglNodePropPredDataset, PygNodePropPredDataset\n",
    "\n",
    "batch_index = torch.tensor([10, 30, 50, 100, 900, 2000, 3030])\n",
    "\n",
    "d = PygNodePropPredDataset('ogbn-products', root='/data/gangda/ogb', )\n",
    "data = d[0]\n",
    "data.n_id = torch.arange(data.num_nodes)\n",
    "train_loader = NeighborLoader(\n",
    "    data,\n",
    "    input_nodes=batch_index,\n",
    "    num_neighbors=[-1, -1],\n",
    "    batch_size=batch_index.shape[0],\n",
    ")\n",
    "\n",
    "batch = next(iter(train_loader))"
   ],
   "metadata": {
    "collapsed": false
   }
  },
  {
   "cell_type": "code",
   "execution_count": 133,
   "outputs": [
    {
     "data": {
      "text/plain": "{'train': tensor([     0,      1,      2,  ..., 196612, 196613, 196614]),\n 'valid': tensor([196615, 196616, 196617,  ..., 235935, 235936, 235937]),\n 'test': tensor([ 235938,  235939,  235940,  ..., 2449026, 2449027, 2449028])}"
     },
     "execution_count": 133,
     "metadata": {},
     "output_type": "execute_result"
    }
   ],
   "source": [
    "d.get_idx_split()"
   ],
   "metadata": {
    "collapsed": false
   }
  },
  {
   "cell_type": "code",
   "execution_count": 22,
   "outputs": [
    {
     "data": {
      "text/plain": "tensor([ 4,  8,  4, 13,  9,  1, 13,  2, 21,  4, 12,  0,  1,  4,  6,  4,  7,  3,\n         4,  0, 20,  5, 13,  4,  8,  3, 11,  4,  0,  4,  0,  4])"
     },
     "execution_count": 22,
     "metadata": {},
     "output_type": "execute_result"
    }
   ],
   "source": [
    "ids = torch.tensor([68098,  47938, 174697,  69531,  26784, 127843,  59809, 143481,\n",
    "       133705,  57786, 175932,  39531,  62559, 109486,  82512,   6551,\n",
    "       138786,   5591, 151444,  48847,  99446, 180400, 189195,  49379,\n",
    "        81849, 126478, 157139,   7077,  39650,  31071,  32633,  74105])\n",
    "data.y[ids].view(-1)"
   ],
   "metadata": {
    "collapsed": false
   }
  },
  {
   "cell_type": "code",
   "execution_count": 12,
   "outputs": [
    {
     "data": {
      "text/plain": "tensor([[      0,  152857,  194591,  ...,  186457, 2034637,   35148],\n        [      1,   89825,  151342,  ..., 1137752,  620866, 2322836],\n        [      2,  488076, 1598820,  ..., 2017855,  442068, 1514525],\n        ...,\n        [2449026,  149963,  148503,  ..., 1886107, 2210439, 2009035],\n        [2449027,  739621,  306502,  ...,  188674,  307615,  706682],\n        [2449028,  728426,   48117,  ..., 1815472, 1420498, 2088456]])"
     },
     "execution_count": 12,
     "metadata": {},
     "output_type": "execute_result"
    }
   ],
   "source": [
    "ppr_matrix = torch.load('/home/gangda/workspace/graph_engine/intermediate/{}_ppr_matrix.pt'.format('ogbn-products'))\n",
    "ppr_matrix"
   ],
   "metadata": {
    "collapsed": false
   }
  },
  {
   "cell_type": "markdown",
   "source": [
    "---"
   ],
   "metadata": {
    "collapsed": false
   }
  },
  {
   "cell_type": "code",
   "execution_count": 57,
   "outputs": [
    {
     "data": {
      "text/plain": "True"
     },
     "execution_count": 57,
     "metadata": {},
     "output_type": "execute_result"
    }
   ],
   "source": [
    "batch_index = torch.tensor([68278,  56297, 171084, 112197, 137846, 116634,  64054, 122823,\n",
    "       130182, 130749, 101573, 181379,  80995,  65400, 100146,  28231,\n",
    "        83514, 112254,  18295, 130482, 126851,  62836, 133229,  25039,\n",
    "       100577, 186332, 146552, 121370,  90180,  63159, 111289,  66735,\n",
    "        19869, 173109,  74218,  97549, 106080, 140589,  16716, 191455,\n",
    "       142625, 116690, 147426, 128014, 132821, 148122,  21356, 163926,\n",
    "       119421,  92288,  11791,  89883, 145127,  59196, 147800,  54319,\n",
    "       115086,   9869, 168121,  30365, 127473, 126582, 141283,  30128,\n",
    "       111256,  77757,  99639,  24041,  77827, 130194,   1357,  37468,\n",
    "       126713, 132848,  75706,  81772, 132363,  79648, 137766, 135999,\n",
    "       126736, 124132,  40255,   5408, 156097, 173491,   2298,  18299,\n",
    "       131653,  21709, 166116,  16551,  30994,  82181,  52336,   2867,\n",
    "       153327,  54619,  47261, 126564,  57008,  60411,  33624,  81860,\n",
    "       113063,  84535, 164701,  24259, 125796, 116581, 159517,  37141,\n",
    "       114751,  29191, 112262, 112737,  71829, 106366,  82779,  99975,\n",
    "       139694,   6663,  36672, 104501, 100275,  36964,  61175, 186781])\n"
   ],
   "metadata": {
    "collapsed": false
   }
  },
  {
   "cell_type": "markdown",
   "source": [
    "---"
   ],
   "metadata": {
    "collapsed": false
   }
  },
  {
   "cell_type": "code",
   "execution_count": 80,
   "outputs": [],
   "source": [
    "from torch_geometric.utils import contains_self_loops, add_remaining_self_loops\n",
    "\n",
    "edge_index = add_remaining_self_loops(data.edge_index)[0]"
   ],
   "metadata": {
    "collapsed": false
   }
  },
  {
   "cell_type": "code",
   "execution_count": 109,
   "outputs": [],
   "source": [
    "from torch_geometric.utils import subgraph\n",
    "from torch_geometric.data import Data\n",
    "\n",
    "bid = 56297\n",
    "sub_edge_index = subgraph(ppr_matrix[bid], edge_index)[0]"
   ],
   "metadata": {
    "collapsed": false
   }
  },
  {
   "cell_type": "code",
   "execution_count": 110,
   "outputs": [
    {
     "name": "stdout",
     "output_type": "stream",
     "text": [
      "tensor([   4103,    6024,   14835,   15266,   33845,   45496,   47577,   52230,\n",
      "          56297,   85589,   89074,   91998,   96216,  104642,  107580,  107737,\n",
      "         109598,  113832,  114736,  118252,  118762,  121192,  125055,  127652,\n",
      "         128963,  131524,  135064,  140450,  146023,  148605,  156638,  168160,\n",
      "         174389,  174515,  182856,  186570,  186628,  191124,  194799,  198617,\n",
      "         200109,  214503,  223017,  223675,  225407,  234131,  241399,  247375,\n",
      "         262409,  282174,  296068,  305177,  327663,  426181,  501695,  503106,\n",
      "         569922,  588973,  620013,  638524,  691897,  724889,  737063,  744513,\n",
      "         776309,  796176,  807686,  820170,  907525,  918789,  923198,  938812,\n",
      "         951967, 1038198, 1084952, 1085746, 1117551, 1119142, 1137652, 1216534,\n",
      "        1276948, 1293009, 1294461, 1309569, 1324367, 1324550, 1329821, 1334306,\n",
      "        1401245, 1451856, 1478828, 1510416, 1550307, 1602713, 1661171, 1682742,\n",
      "        1728780, 1762245, 1832007, 1837622, 1851124, 1878484, 1915810, 1930661,\n",
      "        1942460, 1997879, 2044222, 2149572, 2167740, 2191269, 2192159, 2256802,\n",
      "        2344245])\n"
     ]
    },
    {
     "data": {
      "text/plain": "(array([ 91998, 186628]), 111, 113, 111)"
     },
     "execution_count": 110,
     "metadata": {},
     "output_type": "execute_result"
    }
   ],
   "source": [
    "nid = 56297\n",
    "t1 = sub_edge_index[1][sub_edge_index[0] == nid].sort().values\n",
    "print(t1)\n",
    "\n",
    "t2 = torch.tensor([   4103,    6024,   14835,   15266,   33845,   45496,   47577,\n",
    "         52230,   56297,   85589,   89074,   96216,  104642,  107580,\n",
    "        107737,  109598,  113832,  114736,  118252,  118762,  121192,\n",
    "        125055,  127652,  128963,  131524,  135064,  140450,  146023,\n",
    "        148605,  156638,  168160,  174389,  174515,  182856,  186570,\n",
    "        191124,  194799,  198617,  200109,  214503,  223017,  223675,\n",
    "        225407,  234131,  241399,  247375,  262409,  282174,  296068,\n",
    "        305177,  327663,  426181,  501695,  503106,  569922,  588973,\n",
    "        620013,  638524,  691897,  724889,  737063,  744513,  776309,\n",
    "        796176,  807686,  820170,  907525,  918789,  923198,  938812,\n",
    "        951967, 1038198, 1084952, 1085746, 1117551, 1119142, 1137652,\n",
    "       1216534, 1276948, 1293009, 1294461, 1309569, 1324367, 1324550,\n",
    "       1329821, 1334306, 1401245, 1451856, 1478828, 1510416, 1550307,\n",
    "       1602713, 1661171, 1682742, 1728780, 1762245, 1832007, 1837622,\n",
    "       1851124, 1878484, 1915810, 1930661, 1942460, 1997879, 2044222,\n",
    "       2149572, 2167740, 2191269, 2192159, 2256802, 2344245])\n",
    "\n",
    "np.setdiff1d(t1, t2), np.intersect1d(t1, t2).shape[0], t1.shape[0], t2.shape[0]"
   ],
   "metadata": {
    "collapsed": false
   }
  },
  {
   "cell_type": "markdown",
   "source": [
    "---"
   ],
   "metadata": {
    "collapsed": false
   }
  },
  {
   "cell_type": "code",
   "execution_count": 126,
   "outputs": [
    {
     "data": {
      "text/plain": "(133, 150, 150)"
     },
     "execution_count": 126,
     "metadata": {},
     "output_type": "execute_result"
    }
   ],
   "source": [
    "ns1 = ppr_matrix[130749]\n",
    "\n",
    "ns2 = torch.tensor([   6222,    6251,    6268,    7296,   10588,   11145,   15417,\n",
    "         16511,   20952,   21437,   21720,   25005,   32210,   32598,\n",
    "         33255,   38843,   41492,   50061,   58896,   61115,   62735,\n",
    "         64870,   65999,   70400,   72903,   74089,   75973,   76026,\n",
    "         76832,   80122,   81675,   85569,   86718,   86970,   90106,\n",
    "         90134,   92013,   97023,   97108,   98078,  107187,  108055,\n",
    "        111736,  112638,  121554,  124241,  124370,  125624,  127373,\n",
    "        129807,  129893,  130749,  142731,  145867,  146708,  150824,\n",
    "        151435,  152372,  155996,  156405,  156767,  157809,  160665,\n",
    "        161910,  167580,  170537,  171759,  173016,  173851,  175338,\n",
    "        178624,  180264,  195225,  197482,  198567,  198696,  198942,\n",
    "        203058,  214260,  218585,  228173,  228997,  341695,  383742,\n",
    "        400165,  418829,  424121,  427091,  447866,  461709,  507888,\n",
    "        698911,  798487,  836781,  892154, 1081300, 1084031, 1107592,\n",
    "       1121145, 1135364, 1221334, 1258255, 1273891, 1293074, 1309694,\n",
    "       1338520, 1372122, 1377538, 1380713, 1384349, 1453199, 1457487,\n",
    "       1467081, 1474994, 1518215, 1542457, 1542741, 1548980, 1552649,\n",
    "       1564253, 1653834, 1673178, 1717108, 1738934, 1751805, 1766540,\n",
    "       1829955, 1837460, 1905512, 1914379, 1948321, 1948749, 2028565,\n",
    "       2031083, 2073091, 2132533, 2176578, 2176934, 2190671, 2203444,\n",
    "       2242442, 2243360, 2302481, 2343492, 2344023, 2354508, 2356640,\n",
    "       2374541, 2389262, 2410762])\n",
    "\n",
    "np.intersect1d(ns1, ns2).shape[0], ns1.shape[0], ns2.shape[0]"
   ],
   "metadata": {
    "collapsed": false
   }
  },
  {
   "cell_type": "code",
   "execution_count": 128,
   "outputs": [
    {
     "name": "stdout",
     "output_type": "stream",
     "text": [
      "0.900\n"
     ]
    }
   ],
   "source": [
    "total_intersect = 147 + 120 + 144 + 133 + 126 + 125 + 139 + 128 + 128 + 133\n",
    "total_num       = 150 + 120 + 150 + 150 + 150 + 150 + 150 + 150 + 150 + 150\n",
    "print(f'{total_intersect/total_num:.3f}')"
   ],
   "metadata": {
    "collapsed": false
   }
  },
  {
   "cell_type": "markdown",
   "source": [
    "---"
   ],
   "metadata": {
    "collapsed": false
   }
  },
  {
   "cell_type": "code",
   "execution_count": 96,
   "outputs": [
    {
     "data": {
      "text/plain": "(torch.Size([0]), tensor([], dtype=torch.int64))"
     },
     "execution_count": 96,
     "metadata": {},
     "output_type": "execute_result"
    }
   ],
   "source": [
    "current_node = 7798\n",
    "ours = sub_edge_index[1][sub_edge_index[0] == current_node]\n",
    "# ours = torch.cat([torch.tensor([current_node]), ours])\n",
    "ours.shape, ours"
   ],
   "metadata": {
    "collapsed": false
   }
  },
  {
   "cell_type": "code",
   "execution_count": 48,
   "outputs": [
    {
     "data": {
      "text/plain": "torch.Size([43])"
     },
     "execution_count": 48,
     "metadata": {},
     "output_type": "execute_result"
    }
   ],
   "source": [
    "theirs = torch.tensor([  17446,   17467,   35854,   39891,   52454,   68098,   87180,\n",
    "        110057,  122777,  139400,  151294,  163313,  165683,  170942,\n",
    "        186811,  211284,  211636,  223473,  470411,  625242,  672850,\n",
    "        715973,  787213,  801092,  829837,  903675, 1030175, 1197019,\n",
    "       1284680, 1313296, 1325882, 1397585, 1479103, 1741776, 1922081,\n",
    "       1985068, 2045759, 2086319, 2190390, 2232986, 2362467, 2417788,\n",
    "       2441676])\n",
    "theirs.shape"
   ],
   "metadata": {
    "collapsed": false
   }
  },
  {
   "cell_type": "code",
   "execution_count": 51,
   "outputs": [
    {
     "data": {
      "text/plain": "2"
     },
     "execution_count": 51,
     "metadata": {},
     "output_type": "execute_result"
    }
   ],
   "source": [
    "np.intersect1d(ours, theirs).shape[0]"
   ],
   "metadata": {
    "collapsed": false
   }
  },
  {
   "cell_type": "code",
   "execution_count": 43,
   "outputs": [
    {
     "data": {
      "text/plain": "1046"
     },
     "execution_count": 43,
     "metadata": {},
     "output_type": "execute_result"
    }
   ],
   "source": [
    "np.intersect1d(ppr_matrix[batch_index], batch.n_id).shape[0]"
   ],
   "metadata": {
    "collapsed": false
   }
  },
  {
   "cell_type": "code",
   "execution_count": 6,
   "outputs": [
    {
     "ename": "NameError",
     "evalue": "name 'torch' is not defined",
     "output_type": "error",
     "traceback": [
      "\u001B[0;31m---------------------------------------------------------------------------\u001B[0m",
      "\u001B[0;31mNameError\u001B[0m                                 Traceback (most recent call last)",
      "\u001B[0;32m/tmp/ipykernel_164989/3378210318.py\u001B[0m in \u001B[0;36m<module>\u001B[0;34m\u001B[0m\n\u001B[1;32m      3\u001B[0m \u001B[0mog\u001B[0m\u001B[0;34m,\u001B[0m \u001B[0my\u001B[0m \u001B[0;34m=\u001B[0m \u001B[0mDglNodePropPredDataset\u001B[0m\u001B[0;34m(\u001B[0m\u001B[0mname\u001B[0m\u001B[0;34m=\u001B[0m\u001B[0;34m'ogbn-products'\u001B[0m\u001B[0;34m,\u001B[0m \u001B[0mroot\u001B[0m\u001B[0;34m=\u001B[0m\u001B[0;34m'/data/gangda/dgl'\u001B[0m\u001B[0;34m)\u001B[0m\u001B[0;34m[\u001B[0m\u001B[0;36m0\u001B[0m\u001B[0;34m]\u001B[0m\u001B[0;34m\u001B[0m\u001B[0;34m\u001B[0m\u001B[0m\n\u001B[1;32m      4\u001B[0m \u001B[0mdataset\u001B[0m \u001B[0;34m=\u001B[0m \u001B[0mdict\u001B[0m\u001B[0;34m(\u001B[0m\u001B[0mX\u001B[0m\u001B[0;34m=\u001B[0m\u001B[0mog\u001B[0m\u001B[0;34m.\u001B[0m\u001B[0mndata\u001B[0m\u001B[0;34m[\u001B[0m\u001B[0;34m'feat'\u001B[0m\u001B[0;34m]\u001B[0m\u001B[0;34m,\u001B[0m \u001B[0my\u001B[0m\u001B[0;34m=\u001B[0m\u001B[0my\u001B[0m\u001B[0;34m)\u001B[0m\u001B[0;34m\u001B[0m\u001B[0;34m\u001B[0m\u001B[0m\n\u001B[0;32m----> 5\u001B[0;31m \u001B[0mdataset\u001B[0m\u001B[0;34m[\u001B[0m\u001B[0;34m'edge_index'\u001B[0m\u001B[0;34m]\u001B[0m \u001B[0;34m=\u001B[0m \u001B[0mtorch\u001B[0m\u001B[0;34m.\u001B[0m\u001B[0mload\u001B[0m\u001B[0;34m(\u001B[0m\u001B[0;34m'/home/gangda/workspace/graph_engine/data/ogbn-products-p2/dgl_edge_index.pt'\u001B[0m\u001B[0;34m)\u001B[0m\u001B[0;34m\u001B[0m\u001B[0;34m\u001B[0m\u001B[0m\n\u001B[0m\u001B[1;32m      6\u001B[0m \u001B[0mrowptr\u001B[0m\u001B[0;34m,\u001B[0m \u001B[0mcol\u001B[0m\u001B[0;34m,\u001B[0m \u001B[0m_\u001B[0m \u001B[0;34m=\u001B[0m \u001B[0mSparseTensor\u001B[0m\u001B[0;34m.\u001B[0m\u001B[0mfrom_edge_index\u001B[0m\u001B[0;34m(\u001B[0m\u001B[0mdataset\u001B[0m\u001B[0;34m[\u001B[0m\u001B[0;34m'edge_index'\u001B[0m\u001B[0;34m]\u001B[0m\u001B[0;34m)\u001B[0m\u001B[0;34m.\u001B[0m\u001B[0mcsr\u001B[0m\u001B[0;34m(\u001B[0m\u001B[0;34m)\u001B[0m\u001B[0;34m\u001B[0m\u001B[0;34m\u001B[0m\u001B[0m\n",
      "\u001B[0;31mNameError\u001B[0m: name 'torch' is not defined"
     ]
    }
   ],
   "source": [
    "from torch_sparse import SparseTensor\n",
    "\n",
    "og, y = DglNodePropPredDataset(name='ogbn-products', root='/data/gangda/dgl')[0]\n",
    "dataset = dict(X=og.ndata['feat'], y=y)\n",
    "dataset['edge_index'] = torch.load('/home/gangda/workspace/graph_engine/data/ogbn-products-p2/dgl_edge_index.pt')\n",
    "rowptr, col, _ = SparseTensor.from_edge_index(dataset['edge_index']).csr()"
   ],
   "metadata": {
    "collapsed": false
   }
  },
  {
   "cell_type": "code",
   "execution_count": 33,
   "outputs": [
    {
     "data": {
      "text/plain": "(tensor([     10,    2428,    3785,    4015,    5555,    6560,    9181,   16782,\n           18993,   19892,   21989,   23371,   32573,   35812,   39850,   43289,\n           43800,   47466,   49270,   51779,   54453,   55178,   57560,   59483,\n           68228,   76725,   88265,   90737,   92841,   96347,   98124,  102821,\n          111062,  118078,  121638,  125403,  125559,  128263,  129128,  132055,\n          148930,  149434,  153532,  163968,  164914,  165311,  167623,  168475,\n          168952,  169721,  170486,  176703,  177773,  180425,  180485,  184788,\n          184970,  186565,  187343,  189660,  193115,  196073,  196453,  200695,\n          208672,  213938,  217341,  227457,  239076,  256497,  351947,  461788,\n          467602,  517841,  552193,  559657,  565815,  603598,  613878,  614941,\n          624900,  667619,  693329,  697337,  715845,  743221,  755881,  827803,\n          830755,  833989,  918186,  928645,  960868, 1123270, 1165180, 1201781,\n         1224592, 1285771, 1360345, 1362260, 1365123, 1385689, 1479079, 1508395,\n         1511198, 1526912, 1585784, 1601603, 1647199, 1667031, 1692212, 1761930,\n         1764955, 1772680, 1792232, 1794942, 1816469, 1848730, 1870441, 1907647,\n         1937158, 1967346, 1977783, 1986785, 1988402, 2039299, 2068463, 2071988,\n         2098763, 2108177, 2111452, 2118419, 2125995, 2203238, 2229754, 2232795,\n         2240720, 2247494, 2248487, 2249437, 2274170, 2302174, 2310477, 2321231,\n         2356315, 2371987, 2373374, 2388925, 2405290, 2438168]),\n tensor(0))"
     },
     "execution_count": 33,
     "metadata": {},
     "output_type": "execute_result"
    }
   ],
   "source": [
    "bid = torch.tensor(10)\n",
    "subset, inv = torch.cat([bid.unsqueeze(dim=0), ppr_matrix[bid]]).unique(return_inverse=True)\n",
    "ego_index = inv[0]\n",
    "\n",
    "subset, ego_index"
   ],
   "metadata": {
    "collapsed": false
   }
  },
  {
   "cell_type": "code",
   "execution_count": 44,
   "outputs": [],
   "source": [
    "from pyg_lib.sampler import subgraph as libsubgraph\n",
    "\n",
    "edge_id = libsubgraph(rowptr, col, subset, return_edge_id=True)[-1]\n",
    "sub_edge_index = dataset['edge_index'][:, edge_id]\n",
    "subset2, local_edge_index = sub_edge_index.unique(return_inverse=True)"
   ],
   "metadata": {
    "collapsed": false
   }
  },
  {
   "cell_type": "code",
   "execution_count": 43,
   "outputs": [
    {
     "data": {
      "text/plain": "True"
     },
     "execution_count": 43,
     "metadata": {},
     "output_type": "execute_result"
    }
   ],
   "source": [
    "subset2.equal(subset)"
   ],
   "metadata": {
    "collapsed": false
   }
  },
  {
   "cell_type": "code",
   "execution_count": 58,
   "outputs": [
    {
     "name": "stdout",
     "output_type": "stream",
     "text": [
      "False\n",
      "True\n",
      "False\n"
     ]
    }
   ],
   "source": [
    "from torch_geometric.utils import contains_self_loops, contains_isolated_nodes, is_undirected\n",
    "\n",
    "print(contains_isolated_nodes(local_edge_index))\n",
    "print(is_undirected(local_edge_index))\n",
    "print(contains_self_loops(local_edge_index))"
   ],
   "metadata": {
    "collapsed": false
   }
  },
  {
   "cell_type": "code",
   "execution_count": 62,
   "outputs": [
    {
     "data": {
      "text/plain": "torch.Size([2, 2166])"
     },
     "execution_count": 62,
     "metadata": {},
     "output_type": "execute_result"
    }
   ],
   "source": [
    "local_edge_index.shape"
   ],
   "metadata": {
    "collapsed": false
   }
  },
  {
   "cell_type": "code",
   "execution_count": 56,
   "outputs": [
    {
     "data": {
      "text/plain": "True"
     },
     "execution_count": 56,
     "metadata": {},
     "output_type": "execute_result"
    }
   ],
   "source": [
    "data.x[sub_edge_index].equal(dataset['X'][subset][local_edge_index])"
   ],
   "metadata": {
    "collapsed": false
   }
  },
  {
   "cell_type": "code",
   "execution_count": 69,
   "outputs": [
    {
     "data": {
      "text/plain": "torch.Size([84])"
     },
     "execution_count": 69,
     "metadata": {},
     "output_type": "execute_result"
    }
   ],
   "source": [
    "one_hop = sub_edge_index[1][sub_edge_index[0] == 10]\n",
    "one_hop.shape"
   ],
   "metadata": {
    "collapsed": false
   }
  },
  {
   "cell_type": "code",
   "execution_count": 79,
   "outputs": [
    {
     "data": {
      "text/plain": "tensor([[7],\n        [7],\n        [4],\n        [1],\n        [0],\n        [3],\n        [0]])"
     },
     "execution_count": 79,
     "metadata": {},
     "output_type": "execute_result"
    }
   ],
   "source": [
    "batch.y[:batch.batch_size]"
   ],
   "metadata": {
    "collapsed": false
   }
  },
  {
   "cell_type": "code",
   "execution_count": 82,
   "outputs": [
    {
     "name": "stderr",
     "output_type": "stream",
     "text": [
      "100%|██████████| 20/20 [14:52<00:00, 44.65s/it]\n"
     ]
    },
    {
     "data": {
      "text/plain": "2449029"
     },
     "execution_count": 82,
     "metadata": {},
     "output_type": "execute_result"
    }
   ],
   "source": [
    "from tqdm import tqdm\n",
    "\n",
    "data_list = []\n",
    "for i in tqdm(range(20)):\n",
    "    data_list += torch.load(\n",
    "        '/home/gangda/workspace/graph_engine/intermediate/{}_egograph_list_{}.pt'.format('ogbn-products', i))\n",
    "\n",
    "len(data_list)"
   ],
   "metadata": {
    "collapsed": false
   }
  },
  {
   "cell_type": "code",
   "execution_count": 91,
   "outputs": [
    {
     "data": {
      "text/plain": "(torch.Size([7, 100]), torch.Size([7, 1]))"
     },
     "execution_count": 91,
     "metadata": {},
     "output_type": "execute_result"
    }
   ],
   "source": [
    "b_x, b_y = [], []\n",
    "\n",
    "for bid in batch_index.tolist():\n",
    "    bd = data_list[bid]\n",
    "    b_x.append(bd.x[bd.ego_index])\n",
    "    b_y.append(bd.y)\n",
    "\n",
    "b_x = torch.stack(b_x)\n",
    "b_y = torch.stack(b_y)\n",
    "b_x.shape, b_y.shape"
   ],
   "metadata": {
    "collapsed": false
   }
  },
  {
   "cell_type": "code",
   "execution_count": 92,
   "outputs": [
    {
     "data": {
      "text/plain": "(True, True)"
     },
     "execution_count": 92,
     "metadata": {},
     "output_type": "execute_result"
    }
   ],
   "source": [
    "b_x.equal(data.x[batch_index]), b_y.equal(data.y[batch_index])"
   ],
   "metadata": {
    "collapsed": false
   }
  },
  {
   "cell_type": "code",
   "execution_count": 129,
   "outputs": [
    {
     "data": {
      "text/plain": "Data(num_nodes=2449029, edge_index=[2, 123718280], x=[2449029, 100], y=[2449029, 1], n_id=[2449029])"
     },
     "execution_count": 129,
     "metadata": {},
     "output_type": "execute_result"
    }
   ],
   "source": [],
   "metadata": {
    "collapsed": false
   }
  }
 ],
 "metadata": {
  "kernelspec": {
   "display_name": "Python 3",
   "language": "python",
   "name": "python3"
  },
  "language_info": {
   "codemirror_mode": {
    "name": "ipython",
    "version": 2
   },
   "file_extension": ".py",
   "mimetype": "text/x-python",
   "name": "python",
   "nbconvert_exporter": "python",
   "pygments_lexer": "ipython2",
   "version": "2.7.6"
  }
 },
 "nbformat": 4,
 "nbformat_minor": 0
}
