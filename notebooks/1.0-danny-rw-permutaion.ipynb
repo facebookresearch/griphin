{
 "cells": [
  {
   "cell_type": "code",
   "execution_count": 1,
   "metadata": {
    "collapsed": true
   },
   "outputs": [],
   "source": [
    "import torch"
   ]
  },
  {
   "cell_type": "code",
   "execution_count": null,
   "outputs": [],
   "source": [
    "t = torch.arange(10, 14)\n",
    "t"
   ],
   "metadata": {
    "collapsed": false,
    "pycharm": {
     "name": "#%%\n"
    }
   }
  },
  {
   "cell_type": "code",
   "execution_count": 34,
   "outputs": [
    {
     "data": {
      "text/plain": "tensor([ 1,  1, 12, 13])"
     },
     "execution_count": 34,
     "metadata": {},
     "output_type": "execute_result"
    }
   ],
   "source": [
    "index = torch.tensor([True, True, False, False])\n",
    "t[index]= torch.tensor([1, 1])\n",
    "t"
   ],
   "metadata": {
    "collapsed": false,
    "pycharm": {
     "name": "#%%\n"
    }
   }
  },
  {
   "cell_type": "code",
   "execution_count": 53,
   "outputs": [
    {
     "data": {
      "text/plain": "{1: None}"
     },
     "execution_count": 53,
     "metadata": {},
     "output_type": "execute_result"
    }
   ],
   "source": [
    "d = {1: None}\n",
    "d.pop(0, None)\n",
    "d"
   ],
   "metadata": {
    "collapsed": false,
    "pycharm": {
     "name": "#%%\n"
    }
   }
  },
  {
   "cell_type": "code",
   "execution_count": null,
   "outputs": [],
   "source": [
    "torch.empty(100, dtype=torch.int8)"
   ],
   "metadata": {
    "collapsed": false,
    "pycharm": {
     "name": "#%%\n",
     "is_executing": true
    }
   }
  },
  {
   "cell_type": "markdown",
   "source": [
    "## PPR HOMEWORK"
   ],
   "metadata": {
    "collapsed": false
   }
  },
  {
   "cell_type": "code",
   "execution_count": 124,
   "outputs": [
    {
     "name": "stdout",
     "output_type": "stream",
     "text": [
      "p:  tensor([0., 0., 0.])  r:  tensor([0.5000, 0.0000, 0.0000])\n",
      "p:  tensor([0.5000, 0.0000, 0.0000])  r:  tensor([0.0000, 0.2500, 0.0000])\n",
      "p:  tensor([0.5000, 0.2500, 0.0000])  r:  tensor([0.0000, 0.0000, 0.1250])\n",
      "p:  tensor([0.5000, 0.2500, 0.1250])  r:  tensor([0.0625, 0.0000, 0.0000])\n",
      "p:  tensor([0.5625, 0.2500, 0.1250])  r:  tensor([0.0000, 0.0312, 0.0000])\n",
      "p:  tensor([0.5625, 0.2812, 0.1250])  r:  tensor([0.0000, 0.0000, 0.0156])\n",
      "p:  tensor([0.5625, 0.2812, 0.1406])  r:  tensor([0.0078, 0.0000, 0.0000])\n",
      "p:  tensor([0.5703, 0.2812, 0.1406])  r:  tensor([0.0000, 0.0039, 0.0000])\n",
      "p:  tensor([0.5703, 0.2852, 0.1406])  r:  tensor([0.0000, 0.0000, 0.0020])\n",
      "p:  tensor([0.5703, 0.2852, 0.1426])  r:  tensor([0.0010, 0.0000, 0.0000])\n",
      "p:  tensor([0.5713, 0.2852, 0.1426])  r:  tensor([0.0000, 0.0005, 0.0000])\n",
      "p:  tensor([0.5713, 0.2856, 0.1426])  r:  tensor([0.0000, 0.0000, 0.0002])\n",
      "p:  tensor([0.5713, 0.2856, 0.1428])  r:  tensor([0.0001, 0.0000, 0.0000])\n",
      "p:  tensor([0.5714, 0.2856, 0.1428])  r:  tensor([0.0000e+00, 6.1035e-05, 0.0000e+00])\n",
      "p:  tensor([0.5714, 0.2857, 0.1428])  r:  tensor([0.0000e+00, 0.0000e+00, 3.0518e-05])\n",
      "p:  tensor([0.5714, 0.2857, 0.1429])  r:  tensor([1.5259e-05, 0.0000e+00, 0.0000e+00])\n",
      "p:  tensor([0.5714, 0.2857, 0.1429])  r:  tensor([0.0000e+00, 7.6294e-06, 0.0000e+00])\n",
      "p:  tensor([0.5714, 0.2857, 0.1429])  r:  tensor([0.0000e+00, 0.0000e+00, 3.8147e-06])\n"
     ]
    },
    {
     "data": {
      "text/plain": "tensor([0.5714, 0.2857, 0.1429])"
     },
     "execution_count": 124,
     "metadata": {},
     "output_type": "execute_result"
    }
   ],
   "source": [
    "indptr = torch.tensor([0, 1, 2, 3])\n",
    "indices = torch.tensor([1, 2, 0])\n",
    "degree = torch.tensor([1, 1, 1])\n",
    "g = (indptr, indices, degree)\n",
    "\n",
    "\n",
    "def approx_ppr(g_, a_, t_, e_):\n",
    "    indptr_, indices_, degree_ = g_\n",
    "    num_nodes = degree_.size(-1)\n",
    "\n",
    "    # initialize\n",
    "    p = torch.zeros(num_nodes)\n",
    "    r = torch.zeros(num_nodes)\n",
    "    r[t_] = a_\n",
    "\n",
    "    threshold = a_ * e_ * degree_\n",
    "    while True:\n",
    "        print('p: ', p, ' r: ', r)\n",
    "        mask = r > threshold\n",
    "        if mask.sum() == 0:\n",
    "            break\n",
    "\n",
    "        # update\n",
    "        p[mask] += r[mask]\n",
    "        m = (1 - a_) * r[mask] / degree_[mask]\n",
    "        r[mask] = 0\n",
    "\n",
    "        # can be optimized by using scatter()\n",
    "        v_idx = mask.nonzero(as_tuple=False).view(-1)\n",
    "        for i, v in enumerate(v_idx):\n",
    "            u_idx = indices_[indptr_[v]: indptr_[v+1]]\n",
    "            r[u_idx] += m[i]\n",
    "\n",
    "    return p\n",
    "\n",
    "\n",
    "ppr_score = approx_ppr(g, 0.5, 0, 1e-5)\n",
    "ppr_score"
   ],
   "metadata": {
    "collapsed": false,
    "pycharm": {
     "name": "#%%\n"
    }
   }
  }
 ],
 "metadata": {
  "kernelspec": {
   "display_name": "Python 3",
   "language": "python",
   "name": "python3"
  },
  "language_info": {
   "codemirror_mode": {
    "name": "ipython",
    "version": 2
   },
   "file_extension": ".py",
   "mimetype": "text/x-python",
   "name": "python",
   "nbconvert_exporter": "python",
   "pygments_lexer": "ipython2",
   "version": "2.7.6"
  }
 },
 "nbformat": 4,
 "nbformat_minor": 0
}