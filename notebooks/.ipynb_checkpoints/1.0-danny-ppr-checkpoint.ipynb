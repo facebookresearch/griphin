{
 "cells": [
  {
   "cell_type": "code",
   "execution_count": 1,
   "metadata": {
    "pycharm": {
     "name": "#%%\n"
    }
   },
   "outputs": [
    {
     "data": {
      "text/plain": [
       "tensor([ 1,  1, 12, 13])"
      ]
     },
     "execution_count": 1,
     "metadata": {},
     "output_type": "execute_result"
    }
   ],
   "source": [
    "import torch\n",
    "from torch_sparse import SparseTensor\n",
    "import dgl \n",
    "import torch_geometric\n",
    "import time\n",
    "\n",
    "t = torch.arange(10, 14)\n",
    "index = torch.tensor([True, True, False, False])\n",
    "t[index]= torch.tensor([1, 1])\n",
    "t"
   ]
  },
  {
   "cell_type": "markdown",
   "metadata": {},
   "source": [
    "## PPR HOMEWORK"
   ]
  },
  {
   "cell_type": "code",
   "execution_count": 2,
   "metadata": {
    "pycharm": {
     "name": "#%%\n"
    }
   },
   "outputs": [
    {
     "name": "stdout",
     "output_type": "stream",
     "text": [
      "p:  tensor([0., 0., 0.])  r:  tensor([0.5000, 0.0000, 0.0000])\n",
      "p:  tensor([0.5000, 0.0000, 0.0000])  r:  tensor([0.0000, 0.2500, 0.0000])\n",
      "p:  tensor([0.5000, 0.2500, 0.0000])  r:  tensor([0.0000, 0.0000, 0.1250])\n",
      "p:  tensor([0.5000, 0.2500, 0.1250])  r:  tensor([0.0625, 0.0000, 0.0000])\n",
      "p:  tensor([0.5625, 0.2500, 0.1250])  r:  tensor([0.0000, 0.0312, 0.0000])\n",
      "p:  tensor([0.5625, 0.2812, 0.1250])  r:  tensor([0.0000, 0.0000, 0.0156])\n",
      "p:  tensor([0.5625, 0.2812, 0.1406])  r:  tensor([0.0078, 0.0000, 0.0000])\n",
      "p:  tensor([0.5703, 0.2812, 0.1406])  r:  tensor([0.0000, 0.0039, 0.0000])\n",
      "p:  tensor([0.5703, 0.2852, 0.1406])  r:  tensor([0.0000, 0.0000, 0.0020])\n",
      "p:  tensor([0.5703, 0.2852, 0.1426])  r:  tensor([0.0010, 0.0000, 0.0000])\n",
      "p:  tensor([0.5713, 0.2852, 0.1426])  r:  tensor([0.0000, 0.0005, 0.0000])\n",
      "p:  tensor([0.5713, 0.2856, 0.1426])  r:  tensor([0.0000, 0.0000, 0.0002])\n",
      "p:  tensor([0.5713, 0.2856, 0.1428])  r:  tensor([0.0001, 0.0000, 0.0000])\n",
      "p:  tensor([0.5714, 0.2856, 0.1428])  r:  tensor([0.0000e+00, 6.1035e-05, 0.0000e+00])\n",
      "p:  tensor([0.5714, 0.2857, 0.1428])  r:  tensor([0.0000e+00, 0.0000e+00, 3.0518e-05])\n",
      "p:  tensor([0.5714, 0.2857, 0.1429])  r:  tensor([1.5259e-05, 0.0000e+00, 0.0000e+00])\n",
      "p:  tensor([0.5714, 0.2857, 0.1429])  r:  tensor([0.0000e+00, 7.6294e-06, 0.0000e+00])\n",
      "p:  tensor([0.5714, 0.2857, 0.1429])  r:  tensor([0.0000e+00, 0.0000e+00, 3.8147e-06])\n"
     ]
    },
    {
     "data": {
      "text/plain": [
       "tensor([0.5714, 0.2857, 0.1429])"
      ]
     },
     "execution_count": 2,
     "metadata": {},
     "output_type": "execute_result"
    }
   ],
   "source": [
    "indptr = torch.tensor([0, 1, 2, 3])\n",
    "indices = torch.tensor([1, 2, 0])\n",
    "degree = torch.tensor([1, 1, 1])\n",
    "g = (indptr, indices, degree)\n",
    "\n",
    "\n",
    "def approx_ppr(g_, a_, t_, e_):\n",
    "    indptr_, indices_, degree_ = g_\n",
    "    num_nodes = degree_.size(-1)\n",
    "\n",
    "    # initialize\n",
    "    p = torch.zeros(num_nodes)\n",
    "    r = torch.zeros(num_nodes)\n",
    "    r[t_] = a_\n",
    "\n",
    "    threshold = a_ * e_ * degree_\n",
    "    while True:\n",
    "        print('p: ', p, ' r: ', r)\n",
    "        mask = r > threshold\n",
    "        if mask.sum() == 0:\n",
    "            break\n",
    "\n",
    "        # update\n",
    "        p[mask] += r[mask]\n",
    "        m = (1 - a_) * r[mask] / degree_[mask]\n",
    "        r[mask] = 0\n",
    "\n",
    "        # can be optimized by using scatter()\n",
    "        v_idx = mask.nonzero(as_tuple=False).view(-1)\n",
    "        for i, v in enumerate(v_idx):\n",
    "            u_idx = indices_[indptr_[v]: indptr_[v+1]]\n",
    "            r[u_idx] += m[i]\n",
    "\n",
    "    return p\n",
    "\n",
    "\n",
    "ppr_score = approx_ppr(g, 0.5, 0, 1e-5)\n",
    "ppr_score"
   ]
  },
  {
   "cell_type": "markdown",
   "metadata": {},
   "source": [
    "## PPR Experiments (power-iter vs local-push)"
   ]
  },
  {
   "cell_type": "code",
   "execution_count": 3,
   "metadata": {},
   "outputs": [
    {
     "data": {
      "text/plain": [
       "tensor([3, 3, 3, 3, 3, 3, 3, 3, 3, 3])"
      ]
     },
     "execution_count": 3,
     "metadata": {},
     "output_type": "execute_result"
    }
   ],
   "source": [
    "torch.full((10,), 3)"
   ]
  },
  {
   "cell_type": "code",
   "execution_count": 4,
   "metadata": {
    "pycharm": {
     "name": "#%%\n"
    }
   },
   "outputs": [],
   "source": [
    "from collections import defaultdict\n",
    "from torch_geometric.datasets import Planetoid\n",
    "import torch_geometric.transforms as T\n",
    "import numpy as np\n",
    "\n",
    "\n",
    "def power_iter_ppr(P_w, target_id_, alpha_, epsilon_, max_iter, unweighted_degree_):\n",
    "    num_nodes = P_w.size(0)\n",
    "    s = torch.zeros(num_nodes)\n",
    "    s[target_id_] = 1\n",
    "    s = s.view(-1, 1)\n",
    "\n",
    "    x = s.clone()\n",
    "    num_push = 0\n",
    "    for i in range(max_iter):\n",
    "        x_last = x\n",
    "        x = alpha_ * s + (1 - alpha_) * (P_w @ x)\n",
    "        # total num of operations\n",
    "        x_last_nnz_index = x_last.view(-1).nonzero(as_tuple=False).view(-1)\n",
    "        num_push += unweighted_degree_[x_last_nnz_index].sum()\n",
    "        # check convergence, l1 norm\n",
    "        if sum(abs(x - x_last)) < num_nodes * epsilon_:\n",
    "            print(f'power-iter      Iterations: {i}, Total Push Operations: {num_push.item()},'\n",
    "                  f' NNZ: {sum(x.view(-1) > 0)}')\n",
    "            return x.view(-1), num_push.item()\n",
    "\n",
    "    print(f'Failed to converge with tolerance({epsilon_}) and iter({max_iter})')\n",
    "    return x.view(-1), num_push.item()\n",
    "\n",
    "\n",
    "def standard_local_push_ppr(g_, target_id_, alpha_, epsilon_, beta_=0., gamma_=1., max_degree_=-1):\n",
    "    num_nodes = g_['weighted_degree'].size(-1)\n",
    "    p = torch.zeros(num_nodes)\n",
    "    r = torch.zeros(num_nodes)\n",
    "    r[target_id_] = 1\n",
    "\n",
    "    iterations, num_push = 0, 0\n",
    "    threshold = epsilon_ * g_['weighted_degree']\n",
    "    bias = beta_ * threshold\n",
    "\n",
    "    push_source_one_each = torch.tensor([])\n",
    "    \n",
    "    push_dest_combined = torch.tensor([])\n",
    "    push_source_combined = torch.tensor([])\n",
    "    while True:\n",
    "        v_mask = r > threshold\n",
    "        if v_mask.sum() == 0:\n",
    "            break\n",
    "\n",
    "        v_idx = v_mask.nonzero(as_tuple=False).view(-1)\n",
    "        push_source_one_each = torch.cat((push_source_one_each, v_idx))\n",
    "        for i, v in enumerate(v_idx):\n",
    "            start, end =  g_['indptr'][v], g_['indptr'][v+1]\n",
    "            if max_degree_ == -1:\n",
    "                ptr = torch.arange(start, end)\n",
    "            else:\n",
    "                ptr = torch.randperm(end - start)[:max_degree_] + start\n",
    "            \n",
    "            u_idx = g_['indices'][ptr]\n",
    "            u_weights = g_['edge_weights'][ptr]\n",
    "\n",
    "            while r[v] > threshold[v]:\n",
    "                # update source node\n",
    "                if beta_ == 0:\n",
    "                    p[v] += alpha_ * r[v]\n",
    "                    m_v = (1 - alpha_) * gamma_ * r[v]\n",
    "                    r[v] = (1 - alpha_) * (1 - gamma_) * r[v]\n",
    "                else:\n",
    "                    p[v] += alpha_ * (r[v] - bias[v])\n",
    "                    m_v = (1 - alpha_) * (r[v] - bias[v])\n",
    "                    r[v] = bias[v]\n",
    "\n",
    "                # batch update neighbors\n",
    "                r[u_idx] += m_v * (u_weights / g_['weighted_degree'][v])\n",
    "\n",
    "                num_push += end - start\n",
    "                push_source = torch.full((u_idx.size(0),), v)\n",
    "                push_source_combined = torch.cat((push_source_combined, push_source))\n",
    "                push_dest_combined = torch.cat((push_dest_combined, u_idx))\n",
    "\n",
    "        iterations += 1\n",
    "\n",
    "    return p, iterations, num_push.item(), push_dest_combined, push_source_combined, push_source_one_each\n",
    "\n",
    "\n",
    "def uniform_local_push_ppr(g_, target_id_, alpha_, epsilon_, beta_=0., gamma_=1.):\n",
    "    num_nodes = g_['weighted_degree'].size(-1)\n",
    "    p = torch.zeros(num_nodes)\n",
    "    r = torch.zeros(num_nodes)\n",
    "    r[target_id_] = 1\n",
    "\n",
    "    iterations, num_push = 0, 0\n",
    "    threshold = epsilon_ * g_['weighted_degree']\n",
    "    while True:\n",
    "        v_mask = r > threshold\n",
    "        if v_mask.sum() == 0:\n",
    "            break\n",
    "\n",
    "        v_idx = v_mask.nonzero(as_tuple=False).view(-1)\n",
    "        for i, v in enumerate(v_idx):\n",
    "            # update source node\n",
    "            p[v] += alpha_ * r[v]\n",
    "            temp = (1 - alpha_) * r[v]\n",
    "            r[v] = (1 - gamma_) * temp\n",
    "            m_v = gamma_ * temp / g_['weighted_degree'][v]\n",
    "\n",
    "            # batch update neighbors\n",
    "            start, end =  g_['indptr'][v], g_['indptr'][v+1]\n",
    "            u_idx = g_['indices'][start: end]\n",
    "            u_weights = g_['edge_weights'][start: end]\n",
    "            r[u_idx] += m_v * u_weights\n",
    "\n",
    "            num_push += end - start\n",
    "\n",
    "        iterations += 1\n",
    "\n",
    "    return p, iterations, num_push.item()\n",
    "\n",
    "\n",
    "def batch_local_push_ppr(g_, target_id_, alpha_, epsilon_, beta_=0., gamma_=1.):\n",
    "    num_nodes = g_['weighted_degree'].size(-1)\n",
    "    p = torch.zeros(num_nodes)\n",
    "    r = torch.zeros(num_nodes)\n",
    "    r[target_id_] = 1\n",
    "\n",
    "    iterations, num_push = 0, 0\n",
    "    threshold = epsilon_ * g_['weighted_degree']\n",
    "    bias = beta_ * threshold\n",
    "    \n",
    "    while True:\n",
    "        v_mask = r > threshold\n",
    "        if v_mask.sum() == 0:\n",
    "            break\n",
    "\n",
    "        v_idx = v_mask.nonzero(as_tuple=False).view(-1)\n",
    "        while True:\n",
    "            v_mask_ = r[v_idx] > threshold[v_idx]\n",
    "            if v_mask_.sum() == 0:\n",
    "                break\n",
    "            v_idx_ = v_idx[v_mask_]\n",
    "\n",
    "            # batch update source nodes\n",
    "            if beta_ == 0:\n",
    "                p[v_idx_] += alpha_ * r[v_idx_]\n",
    "                m = (1 - alpha_) * gamma_ * r[v_idx_] / g_['weighted_degree'][v_idx_]\n",
    "                r[v_idx_] = (1 - alpha_) * (1 - gamma_) * r[v_idx_]\n",
    "            else:\n",
    "                p[v_idx_] += alpha_ * (r[v_idx_] - bias[v_idx_])\n",
    "                m = (1 - alpha_) * (r[v_idx_] - bias[v_idx_]) / g_['weighted_degree'][v_idx_]\n",
    "                r[v_idx_] = bias[v_idx_]\n",
    "\n",
    "            for i, v in enumerate(v_idx_):\n",
    "                # batch update neighbors\n",
    "                start, end =  g_['indptr'][v], g_['indptr'][v+1]\n",
    "                u_idx = g_['indices'][start: end]\n",
    "                u_weights = g_['edge_weights'][start: end]\n",
    "                r[u_idx] += m[i] * u_weights\n",
    "\n",
    "                num_push += end - start\n",
    "\n",
    "        iterations += 1\n",
    "\n",
    "    return p, iterations, num_push.item()"
   ]
  },
  {
   "cell_type": "code",
   "execution_count": 5,
   "metadata": {
    "pycharm": {
     "name": "#%%\n"
    }
   },
   "outputs": [
    {
     "data": {
      "text/plain": [
       "({'indptr': tensor([    0,     3,     6,  ..., 10548, 10552, 10556]),\n",
       "  'indices': tensor([ 633, 1862, 2582,  ...,  598, 1473, 2706]),\n",
       "  'edge_weights': tensor([0.7449, 0.0027, 0.5205,  ..., 0.2598, 0.7009, 0.9796]),\n",
       "  'weighted_degree': tensor([1.2681, 1.5534, 2.9626,  ..., 0.5489, 2.6738, 2.0134])},\n",
       " SparseTensor(row=tensor([   0,    0,    0,  ..., 2707, 2707, 2707]),\n",
       "              col=tensor([ 633, 1862, 2582,  ...,  598, 1473, 2706]),\n",
       "              val=tensor([0.5284, 0.0732, 0.4651,  ..., 0.0546, 0.2590, 0.3238]),\n",
       "              size=(2708, 2708), nnz=10556, density=0.14%))"
      ]
     },
     "execution_count": 5,
     "metadata": {},
     "output_type": "execute_result"
    }
   ],
   "source": [
    "\"\"\"Graph Loading\"\"\"\n",
    "dataset = Planetoid(root='cora', name='Cora', pre_transform=T.ToSparseTensor())\n",
    "data = dataset[0]\n",
    "unweighted_degree = data.adj_t.sum(dim=0).to(torch.int)\n",
    "coo_adj_edge_weight = torch.rand(data.num_edges)\n",
    "# coo_adj_edge_weight = torch.ones(data.num_edges)\n",
    "data.adj_t.set_value_(coo_adj_edge_weight, layout='csc')\n",
    "\n",
    "# local-push\n",
    "indptr, indices, value = data.adj_t.csc()\n",
    "degree = data.adj_t.sum(dim=0).to(torch.float)\n",
    "g = {\n",
    "    'indptr': indptr,\n",
    "    'indices': indices,\n",
    "    'edge_weights': value,\n",
    "    'weighted_degree': degree,\n",
    "}\n",
    "\n",
    "# power-iteration\n",
    "norm_adj_t = data.adj_t * degree.pow(-1).view(1, -1)\n",
    "\n",
    "g, norm_adj_t"
   ]
  },
  {
   "cell_type": "code",
   "execution_count": 6,
   "metadata": {},
   "outputs": [
    {
     "data": {
      "text/plain": [
       "Data(x=[2708, 1433], y=[2708], train_mask=[2708], val_mask=[2708], test_mask=[2708], adj_t=[2708, 2708, nnz=10556])"
      ]
     },
     "execution_count": 6,
     "metadata": {},
     "output_type": "execute_result"
    }
   ],
   "source": [
    "data"
   ]
  },
  {
   "cell_type": "code",
   "execution_count": 7,
   "metadata": {},
   "outputs": [],
   "source": [
    "coo_format = data.adj_t.coo()"
   ]
  },
  {
   "cell_type": "code",
   "execution_count": 8,
   "metadata": {},
   "outputs": [
    {
     "name": "stderr",
     "output_type": "stream",
     "text": [
      "/home/omer/mypython/lib/python3.8/site-packages/dgl/heterograph.py:72: DGLWarning: Recommend creating graphs by `dgl.graph(data)` instead of `dgl.DGLGraph(data)`.\n",
      "  dgl_warning('Recommend creating graphs by `dgl.graph(data)`'\n"
     ]
    }
   ],
   "source": [
    "G = dgl.DGLGraph()\n",
    "G.add_edges(coo_format[0], coo_format[1])"
   ]
  },
  {
   "cell_type": "code",
   "execution_count": 9,
   "metadata": {},
   "outputs": [
    {
     "data": {
      "text/plain": [
       "tensor([   0,    1,    2,  ..., 2705, 2706, 2707])"
      ]
     },
     "execution_count": 9,
     "metadata": {},
     "output_type": "execute_result"
    }
   ],
   "source": [
    "G.nodes()"
   ]
  },
  {
   "cell_type": "code",
   "execution_count": 10,
   "metadata": {},
   "outputs": [
    {
     "name": "stdout",
     "output_type": "stream",
     "text": [
      "Convert a graph into a bidirected graph: 0.002 seconds, peak memory: 4.211 GB\n",
      "Construct multi-constraint weights: 0.000 seconds, peak memory: 4.211 GB\n",
      "Metis partitioning: 0.006 seconds, peak memory: 4.211 GB\n",
      "Split the graph: 0.002 seconds\n",
      "Construct subgraphs: 0.003 seconds\n"
     ]
    },
    {
     "name": "stderr",
     "output_type": "stream",
     "text": [
      "[11:54:12] /opt/dgl/src/graph/transform/metis_partition_hetero.cc:87: Partition a graph with 2708 nodes and 10556 edges into 4 parts and get 464 edge cuts\n"
     ]
    }
   ],
   "source": [
    "partitions = dgl.metis_partition(G, k=4, extra_cached_hops=1, reshuffle=False, balance_ntypes=None, balance_edges=False, mode='k-way')    "
   ]
  },
  {
   "cell_type": "code",
   "execution_count": 11,
   "metadata": {},
   "outputs": [],
   "source": [
    "core0 = partitions[0].ndata['inner_node'].sum()\n",
    "core1 = partitions[1].ndata['inner_node'].sum()\n",
    "core2 = partitions[2].ndata['inner_node'].sum()\n",
    "core3 = partitions[3].ndata['inner_node'].sum()\n",
    "\n",
    "core_ids0 = partitions[0].ndata['_ID'][:core0]\n",
    "core_ids1 = partitions[1].ndata['_ID'][:core1]\n",
    "core_ids2 = partitions[2].ndata['_ID'][:core2]\n",
    "core_ids3 = partitions[3].ndata['_ID'][:core3]\n",
    "\n",
    "core_ids = [core_ids0, core_ids1, core_ids2, core_ids3]"
   ]
  },
  {
   "cell_type": "code",
   "execution_count": 12,
   "metadata": {
    "scrolled": true
   },
   "outputs": [],
   "source": [
    "def count_local_and_remotes(push_sources, target_id):\n",
    "    partition_number = -1\n",
    "    for i, core_ids_i in enumerate(core_ids):\n",
    "        if target_id in core_ids_i: \n",
    "            partition_number = i\n",
    "    local_count = 0\n",
    "    remote_count = 0\n",
    "    for el in push_sources:\n",
    "        if el in core_ids[partition_number]:\n",
    "            local_count += 1\n",
    "        else:\n",
    "            remote_count += 1\n",
    "    return local_count, remote_count"
   ]
  },
  {
   "cell_type": "code",
   "execution_count": 13,
   "metadata": {
    "pycharm": {
     "name": "#%%\n"
    }
   },
   "outputs": [
    {
     "data": {
      "text/plain": [
       "\"adj = data.adj_t.t()\\nadj = adj.sample_adj(torch.arange(data.num_nodes), 150, replace=False)[0]\\n_indptr, _indices, _value = adj.csr()\\n_degree = adj.sum(dim=1).to(torch.float)\\ng_sampled = {\\n    'indptr': _indptr,\\n    'indices': _indices,\\n    'edge_weights': _value,\\n    'weighted_degree': _degree,\\n}\\ng_sampled\""
      ]
     },
     "execution_count": 13,
     "metadata": {},
     "output_type": "execute_result"
    }
   ],
   "source": [
    "\"\"\"Deprecated Sampling\"\"\"\n",
    "# sampled local-push\n",
    "\"\"\"adj = data.adj_t.t()\n",
    "adj = adj.sample_adj(torch.arange(data.num_nodes), 150, replace=False)[0]\n",
    "_indptr, _indices, _value = adj.csr()\n",
    "_degree = adj.sum(dim=1).to(torch.float)\n",
    "g_sampled = {\n",
    "    'indptr': _indptr,\n",
    "    'indices': _indices,\n",
    "    'edge_weights': _value,\n",
    "    'weighted_degree': _degree,\n",
    "}\n",
    "g_sampled\"\"\""
   ]
  },
  {
   "cell_type": "code",
   "execution_count": 14,
   "metadata": {
    "pycharm": {
     "name": "#%%\n"
    },
    "scrolled": true
   },
   "outputs": [
    {
     "name": "stdout",
     "output_type": "stream",
     "text": [
      "tensor([ 868, 2190,  597,   77, 1867, 1299, 1545, 1874, 1463,  638,  725, 1374,\n",
      "         418,   35, 1481,  889, 2638,  485, 1269,  322, 1233, 1682, 1039, 2599,\n",
      "        1800, 1069, 2397, 2358, 1746, 2651,  468,  950,  576, 1584,  326,  242,\n",
      "        1978, 1223, 1364, 2144, 1310, 1947, 2435, 1276, 2041, 1418, 1521,  237,\n",
      "        1221,  647])\n",
      "\n",
      "########## Iter 1 ##########\n",
      "power-iter      Iterations: 20, Total Push Operations: 157551, NNZ: 2485\n",
      "standard        Iterations: 15, Total Push Operations: 12037, NNZ: 908\n",
      "Push dest:  12037\n",
      "Push source:  12037\n",
      "Local:  1001\n",
      "Remote:  1439\n",
      "Local Neigh:  4831\n",
      "Remote Neigh:  7206\n",
      "\n",
      "########## Iter 2 ##########\n",
      "power-iter      Iterations: 19, Total Push Operations: 146513, NNZ: 2485\n",
      "standard        Iterations: 16, Total Push Operations: 14624, NNZ: 1042\n",
      "Push dest:  14624\n",
      "Push source:  14624\n",
      "Local:  1382\n",
      "Remote:  1553\n",
      "Local Neigh:  7570\n",
      "Remote Neigh:  7054\n",
      "\n",
      "########## Iter 3 ##########\n",
      "power-iter      Iterations: 21, Total Push Operations: 160428, NNZ: 2485\n",
      "standard        Iterations: 16, Total Push Operations: 10044, NNZ: 666\n",
      "Push dest:  10044\n",
      "Push source:  10044\n",
      "Local:  1273\n",
      "Remote:  739\n",
      "Local Neigh:  6169\n",
      "Remote Neigh:  3875\n",
      "\n",
      "########## Iter 4 ##########\n",
      "power-iter      Iterations: 23, Total Push Operations: 184494, NNZ: 2485\n",
      "standard        Iterations: 20, Total Push Operations: 9033, NNZ: 790\n",
      "Push dest:  9033\n",
      "Push source:  9033\n",
      "Local:  366\n",
      "Remote:  1318\n",
      "Local Neigh:  1782\n",
      "Remote Neigh:  7251\n",
      "\n",
      "########## Iter 5 ##########\n",
      "power-iter      Iterations: 20, Total Push Operations: 163357, NNZ: 2485\n",
      "standard        Iterations: 15, Total Push Operations: 17438, NNZ: 1367\n",
      "Push dest:  17438\n",
      "Push source:  17438\n",
      "Local:  1476\n",
      "Remote:  2170\n",
      "Local Neigh:  6731\n",
      "Remote Neigh:  10707\n",
      "\n",
      "########## Iter 6 ##########\n",
      "power-iter      Iterations: 20, Total Push Operations: 164644, NNZ: 2485\n",
      "standard        Iterations: 15, Total Push Operations: 20077, NNZ: 1417\n",
      "Push dest:  20077\n",
      "Push source:  20077\n",
      "Local:  1477\n",
      "Remote:  2832\n",
      "Local Neigh:  6290\n",
      "Remote Neigh:  13787\n",
      "\n",
      "########## Iter 7 ##########\n",
      "power-iter      Iterations: 21, Total Push Operations: 144069, NNZ: 2485\n",
      "standard        Iterations: 16, Total Push Operations: 3077, NNZ: 194\n",
      "Push dest:  3077\n",
      "Push source:  3077\n",
      "Local:  715\n",
      "Remote:  44\n",
      "Local Neigh:  2948\n",
      "Remote Neigh:  129\n",
      "\n",
      "########## Iter 8 ##########\n",
      "power-iter      Iterations: 20, Total Push Operations: 161117, NNZ: 2485\n",
      "standard        Iterations: 15, Total Push Operations: 14424, NNZ: 1002\n",
      "Push dest:  14424\n",
      "Push source:  14424\n",
      "Local:  1064\n",
      "Remote:  1991\n",
      "Local Neigh:  4657\n",
      "Remote Neigh:  9767\n",
      "\n",
      "########## Iter 9 ##########\n",
      "power-iter      Iterations: 20, Total Push Operations: 155409, NNZ: 2485\n",
      "standard        Iterations: 16, Total Push Operations: 11225, NNZ: 770\n",
      "Push dest:  11225\n",
      "Push source:  11225\n",
      "Local:  1322\n",
      "Remote:  1010\n",
      "Local Neigh:  6325\n",
      "Remote Neigh:  4900\n",
      "\n",
      "########## Iter 10 ##########\n",
      "power-iter      Iterations: 19, Total Push Operations: 144932, NNZ: 2485\n",
      "standard        Iterations: 16, Total Push Operations: 10685, NNZ: 742\n",
      "Push dest:  10685\n",
      "Push source:  10685\n",
      "Local:  1294\n",
      "Remote:  810\n",
      "Local Neigh:  6773\n",
      "Remote Neigh:  3912\n",
      "\n",
      "########## Iter 11 ##########\n",
      "power-iter      Iterations: 22, Total Push Operations: 175396, NNZ: 2485\n",
      "standard        Iterations: 18, Total Push Operations: 11498, NNZ: 816\n",
      "Push dest:  11498\n",
      "Push source:  11498\n",
      "Local:  1102\n",
      "Remote:  1245\n",
      "Local Neigh:  5310\n",
      "Remote Neigh:  6188\n",
      "\n",
      "########## Iter 12 ##########\n",
      "power-iter      Iterations: 20, Total Push Operations: 157242, NNZ: 2485\n",
      "standard        Iterations: 16, Total Push Operations: 15183, NNZ: 1001\n",
      "Push dest:  15183\n",
      "Push source:  15183\n",
      "Local:  1655\n",
      "Remote:  1356\n",
      "Local Neigh:  8424\n",
      "Remote Neigh:  6759\n",
      "\n",
      "########## Iter 13 ##########\n",
      "power-iter      Iterations: 20, Total Push Operations: 138461, NNZ: 2485\n",
      "standard        Iterations: 16, Total Push Operations: 3622, NNZ: 309\n",
      "Push dest:  3622\n",
      "Push source:  3622\n",
      "Local:  469\n",
      "Remote:  350\n",
      "Local Neigh:  1929\n",
      "Remote Neigh:  1693\n",
      "\n",
      "########## Iter 14 ##########\n",
      "power-iter      Iterations: 19, Total Push Operations: 139291, NNZ: 2485\n",
      "standard        Iterations: 16, Total Push Operations: 6813, NNZ: 623\n",
      "Push dest:  6813\n",
      "Push source:  6813\n",
      "Local:  776\n",
      "Remote:  565\n",
      "Local Neigh:  4081\n",
      "Remote Neigh:  2732\n",
      "\n",
      "########## Iter 15 ##########\n",
      "power-iter      Iterations: 21, Total Push Operations: 168372, NNZ: 2485\n",
      "standard        Iterations: 17, Total Push Operations: 14118, NNZ: 982\n",
      "Push dest:  14118\n",
      "Push source:  14118\n",
      "Local:  1083\n",
      "Remote:  1769\n",
      "Local Neigh:  5307\n",
      "Remote Neigh:  8811\n",
      "\n",
      "########## Iter 16 ##########\n",
      "power-iter      Iterations: 21, Total Push Operations: 166597, NNZ: 2485\n",
      "standard        Iterations: 18, Total Push Operations: 11966, NNZ: 825\n",
      "Push dest:  11966\n",
      "Push source:  11966\n",
      "Local:  1022\n",
      "Remote:  1258\n",
      "Local Neigh:  5070\n",
      "Remote Neigh:  6896\n",
      "\n",
      "########## Iter 17 ##########\n",
      "power-iter      Iterations: 20, Total Push Operations: 146457, NNZ: 2485\n",
      "standard        Iterations: 17, Total Push Operations: 7961, NNZ: 608\n",
      "Push dest:  7961\n",
      "Push source:  7961\n",
      "Local:  769\n",
      "Remote:  760\n",
      "Local Neigh:  4521\n",
      "Remote Neigh:  3440\n",
      "\n",
      "########## Iter 18 ##########\n",
      "power-iter      Iterations: 21, Total Push Operations: 159895, NNZ: 2485\n",
      "standard        Iterations: 17, Total Push Operations: 8271, NNZ: 554\n",
      "Push dest:  8271\n",
      "Push source:  8271\n",
      "Local:  1215\n",
      "Remote:  522\n",
      "Local Neigh:  5779\n",
      "Remote Neigh:  2492\n",
      "\n",
      "########## Iter 19 ##########\n",
      "power-iter      Iterations: 20, Total Push Operations: 156457, NNZ: 2485\n",
      "standard        Iterations: 15, Total Push Operations: 7485, NNZ: 544\n",
      "Push dest:  7485\n",
      "Push source:  7485\n",
      "Local:  851\n",
      "Remote:  707\n",
      "Local Neigh:  4157\n",
      "Remote Neigh:  3328\n",
      "\n",
      "########## Iter 20 ##########\n",
      "power-iter      Iterations: 21, Total Push Operations: 167962, NNZ: 2485\n",
      "standard        Iterations: 15, Total Push Operations: 17916, NNZ: 1262\n",
      "Push dest:  17916\n",
      "Push source:  17916\n",
      "Local:  1499\n",
      "Remote:  2153\n",
      "Local Neigh:  7459\n",
      "Remote Neigh:  10457\n",
      "\n",
      "########## Iter 21 ##########\n",
      "power-iter      Iterations: 25, Total Push Operations: 51, NNZ: 2\n",
      "standard        Iterations: 24, Total Push Operations: 24, NNZ: 2\n",
      "Push dest:  24\n",
      "Push source:  24\n",
      "Local:  24\n",
      "Remote:  0\n",
      "Local Neigh:  24\n",
      "Remote Neigh:  0\n",
      "\n",
      "########## Iter 22 ##########\n",
      "power-iter      Iterations: 19, Total Push Operations: 153469, NNZ: 2485\n",
      "standard        Iterations: 15, Total Push Operations: 17633, NNZ: 1319\n",
      "Push dest:  17633\n",
      "Push source:  17633\n",
      "Local:  1250\n",
      "Remote:  2247\n",
      "Local Neigh:  6866\n",
      "Remote Neigh:  10767\n",
      "\n",
      "########## Iter 23 ##########\n",
      "power-iter      Iterations: 20, Total Push Operations: 154517, NNZ: 2485\n",
      "standard        Iterations: 15, Total Push Operations: 13808, NNZ: 1037\n",
      "Push dest:  13808\n",
      "Push source:  13808\n",
      "Local:  1139\n",
      "Remote:  1717\n",
      "Local Neigh:  5852\n",
      "Remote Neigh:  7956\n",
      "\n",
      "########## Iter 24 ##########\n",
      "power-iter      Iterations: 19, Total Push Operations: 147504, NNZ: 2485\n",
      "standard        Iterations: 18, Total Push Operations: 4240, NNZ: 389\n",
      "Push dest:  4240\n",
      "Push source:  4240\n",
      "Local:  280\n",
      "Remote:  588\n",
      "Local Neigh:  1090\n",
      "Remote Neigh:  3150\n",
      "\n",
      "########## Iter 25 ##########\n",
      "power-iter      Iterations: 22, Total Push Operations: 186319, NNZ: 2485\n",
      "standard        Iterations: 20, Total Push Operations: 15620, NNZ: 1065\n",
      "Push dest:  15620\n",
      "Push source:  15620\n",
      "Local:  1186\n",
      "Remote:  1916\n",
      "Local Neigh:  6585\n",
      "Remote Neigh:  9035\n",
      "\n",
      "########## Iter 26 ##########\n",
      "power-iter      Iterations: 20, Total Push Operations: 156686, NNZ: 2485\n",
      "standard        Iterations: 16, Total Push Operations: 17486, NNZ: 1257\n",
      "Push dest:  17486\n",
      "Push source:  17486\n",
      "Local:  1290\n",
      "Remote:  2066\n",
      "Local Neigh:  6367\n",
      "Remote Neigh:  11119\n",
      "\n",
      "########## Iter 27 ##########\n",
      "power-iter      Iterations: 20, Total Push Operations: 153976, NNZ: 2485\n",
      "standard        Iterations: 17, Total Push Operations: 9435, NNZ: 616\n",
      "Push dest:  9435\n",
      "Push source:  9435\n",
      "Local:  972\n",
      "Remote:  914\n",
      "Local Neigh:  4753\n",
      "Remote Neigh:  4682\n",
      "\n",
      "########## Iter 28 ##########\n",
      "power-iter      Iterations: 19, Total Push Operations: 139690, NNZ: 2485\n",
      "standard        Iterations: 15, Total Push Operations: 9198, NNZ: 786\n",
      "Push dest:  9198\n",
      "Push source:  9198\n",
      "Local:  589\n",
      "Remote:  1274\n",
      "Local Neigh:  3059\n",
      "Remote Neigh:  6139\n",
      "\n",
      "########## Iter 29 ##########\n",
      "power-iter      Iterations: 21, Total Push Operations: 175543, NNZ: 2485\n",
      "standard        Iterations: 16, Total Push Operations: 14620, NNZ: 878\n",
      "Push dest:  14620\n",
      "Push source:  14620\n",
      "Local:  2047\n",
      "Remote:  926\n",
      "Local Neigh:  10025\n",
      "Remote Neigh:  4595\n",
      "\n",
      "########## Iter 30 ##########\n"
     ]
    },
    {
     "name": "stdout",
     "output_type": "stream",
     "text": [
      "power-iter      Iterations: 19, Total Push Operations: 146128, NNZ: 2485\n",
      "standard        Iterations: 14, Total Push Operations: 12465, NNZ: 750\n",
      "Push dest:  12465\n",
      "Push source:  12465\n",
      "Local:  1837\n",
      "Remote:  660\n",
      "Local Neigh:  9128\n",
      "Remote Neigh:  3337\n",
      "\n",
      "########## Iter 31 ##########\n",
      "power-iter      Iterations: 20, Total Push Operations: 149101, NNZ: 2485\n",
      "standard        Iterations: 18, Total Push Operations: 9020, NNZ: 597\n",
      "Push dest:  9020\n",
      "Push source:  9020\n",
      "Local:  943\n",
      "Remote:  736\n",
      "Local Neigh:  5313\n",
      "Remote Neigh:  3707\n",
      "\n",
      "########## Iter 32 ##########\n",
      "power-iter      Iterations: 20, Total Push Operations: 159147, NNZ: 2485\n",
      "standard        Iterations: 18, Total Push Operations: 13418, NNZ: 1014\n",
      "Push dest:  13418\n",
      "Push source:  13418\n",
      "Local:  728\n",
      "Remote:  2068\n",
      "Local Neigh:  3443\n",
      "Remote Neigh:  9975\n",
      "\n",
      "########## Iter 33 ##########\n",
      "power-iter      Iterations: 21, Total Push Operations: 172042, NNZ: 2485\n",
      "standard        Iterations: 16, Total Push Operations: 14172, NNZ: 1006\n",
      "Push dest:  14172\n",
      "Push source:  14172\n",
      "Local:  902\n",
      "Remote:  2147\n",
      "Local Neigh:  4478\n",
      "Remote Neigh:  9694\n",
      "\n",
      "########## Iter 34 ##########\n",
      "power-iter      Iterations: 20, Total Push Operations: 165199, NNZ: 2485\n",
      "standard        Iterations: 18, Total Push Operations: 13582, NNZ: 852\n",
      "Push dest:  13582\n",
      "Push source:  13582\n",
      "Local:  1578\n",
      "Remote:  950\n",
      "Local Neigh:  8702\n",
      "Remote Neigh:  4880\n",
      "\n",
      "########## Iter 35 ##########\n",
      "power-iter      Iterations: 19, Total Push Operations: 155226, NNZ: 2485\n",
      "standard        Iterations: 15, Total Push Operations: 14621, NNZ: 827\n",
      "Push dest:  14621\n",
      "Push source:  14621\n",
      "Local:  2122\n",
      "Remote:  809\n",
      "Local Neigh:  10640\n",
      "Remote Neigh:  3981\n",
      "\n",
      "########## Iter 36 ##########\n",
      "power-iter      Iterations: 20, Total Push Operations: 159327, NNZ: 2485\n",
      "standard        Iterations: 14, Total Push Operations: 10584, NNZ: 871\n",
      "Push dest:  10584\n",
      "Push source:  10584\n",
      "Local:  1122\n",
      "Remote:  1102\n",
      "Local Neigh:  5288\n",
      "Remote Neigh:  5296\n",
      "\n",
      "########## Iter 37 ##########\n",
      "power-iter      Iterations: 19, Total Push Operations: 142564, NNZ: 2485\n",
      "standard        Iterations: 15, Total Push Operations: 10494, NNZ: 753\n",
      "Push dest:  10494\n",
      "Push source:  10494\n",
      "Local:  1070\n",
      "Remote:  1078\n",
      "Local Neigh:  5473\n",
      "Remote Neigh:  5021\n",
      "\n",
      "########## Iter 38 ##########\n",
      "power-iter      Iterations: 21, Total Push Operations: 160579, NNZ: 2485\n",
      "standard        Iterations: 19, Total Push Operations: 6341, NNZ: 497\n",
      "Push dest:  6341\n",
      "Push source:  6341\n",
      "Local:  790\n",
      "Remote:  530\n",
      "Local Neigh:  3480\n",
      "Remote Neigh:  2861\n",
      "\n",
      "########## Iter 39 ##########\n",
      "power-iter      Iterations: 21, Total Push Operations: 142179, NNZ: 2485\n",
      "standard        Iterations: 18, Total Push Operations: 2714, NNZ: 141\n",
      "Push dest:  2714\n",
      "Push source:  2714\n",
      "Local:  480\n",
      "Remote:  53\n",
      "Local Neigh:  2499\n",
      "Remote Neigh:  215\n",
      "\n",
      "########## Iter 40 ##########\n",
      "power-iter      Iterations: 19, Total Push Operations: 137325, NNZ: 2485\n",
      "standard        Iterations: 16, Total Push Operations: 4141, NNZ: 288\n",
      "Push dest:  4141\n",
      "Push source:  4141\n",
      "Local:  129\n",
      "Remote:  621\n",
      "Local Neigh:  537\n",
      "Remote Neigh:  3604\n",
      "\n",
      "########## Iter 41 ##########\n",
      "power-iter      Iterations: 25, Total Push Operations: 51, NNZ: 2\n",
      "standard        Iterations: 24, Total Push Operations: 24, NNZ: 2\n",
      "Push dest:  24\n",
      "Push source:  24\n",
      "Local:  24\n",
      "Remote:  0\n",
      "Local Neigh:  24\n",
      "Remote Neigh:  0\n",
      "\n",
      "########## Iter 42 ##########\n",
      "power-iter      Iterations: 20, Total Push Operations: 145108, NNZ: 2485\n",
      "standard        Iterations: 17, Total Push Operations: 6586, NNZ: 444\n",
      "Push dest:  6586\n",
      "Push source:  6586\n",
      "Local:  755\n",
      "Remote:  690\n",
      "Local Neigh:  3531\n",
      "Remote Neigh:  3055\n",
      "\n",
      "########## Iter 43 ##########\n",
      "power-iter      Iterations: 20, Total Push Operations: 141852, NNZ: 2485\n",
      "standard        Iterations: 16, Total Push Operations: 4779, NNZ: 356\n",
      "Push dest:  4779\n",
      "Push source:  4779\n",
      "Local:  467\n",
      "Remote:  501\n",
      "Local Neigh:  2254\n",
      "Remote Neigh:  2525\n",
      "\n",
      "########## Iter 44 ##########\n",
      "power-iter      Iterations: 19, Total Push Operations: 127388, NNZ: 2485\n",
      "standard        Iterations: 16, Total Push Operations: 4489, NNZ: 324\n",
      "Push dest:  4489\n",
      "Push source:  4489\n",
      "Local:  564\n",
      "Remote:  433\n",
      "Local Neigh:  2564\n",
      "Remote Neigh:  1925\n",
      "\n",
      "########## Iter 45 ##########\n",
      "power-iter      Iterations: 20, Total Push Operations: 163463, NNZ: 2485\n",
      "standard        Iterations: 16, Total Push Operations: 13827, NNZ: 1053\n",
      "Push dest:  13827\n",
      "Push source:  13827\n",
      "Local:  1310\n",
      "Remote:  1642\n",
      "Local Neigh:  5765\n",
      "Remote Neigh:  8062\n",
      "\n",
      "########## Iter 46 ##########\n",
      "power-iter      Iterations: 24, Total Push Operations: 180600, NNZ: 2485\n",
      "standard        Iterations: 22, Total Push Operations: 4208, NNZ: 357\n",
      "Push dest:  4208\n",
      "Push source:  4208\n",
      "Local:  507\n",
      "Remote:  425\n",
      "Local Neigh:  2327\n",
      "Remote Neigh:  1881\n",
      "\n",
      "########## Iter 47 ##########\n",
      "power-iter      Iterations: 21, Total Push Operations: 173397, NNZ: 2485\n",
      "standard        Iterations: 18, Total Push Operations: 17209, NNZ: 1218\n",
      "Push dest:  17209\n",
      "Push source:  17209\n",
      "Local:  1410\n",
      "Remote:  1963\n",
      "Local Neigh:  7583\n",
      "Remote Neigh:  9626\n",
      "\n",
      "########## Iter 48 ##########\n",
      "power-iter      Iterations: 24, Total Push Operations: 163798, NNZ: 2485\n",
      "standard        Iterations: 19, Total Push Operations: 1672, NNZ: 140\n",
      "Push dest:  1672\n",
      "Push source:  1672\n",
      "Local:  191\n",
      "Remote:  249\n",
      "Local Neigh:  707\n",
      "Remote Neigh:  965\n",
      "\n",
      "########## Iter 49 ##########\n",
      "power-iter      Iterations: 21, Total Push Operations: 162063, NNZ: 2485\n",
      "standard        Iterations: 18, Total Push Operations: 9634, NNZ: 647\n",
      "Push dest:  9634\n",
      "Push source:  9634\n",
      "Local:  1135\n",
      "Remote:  975\n",
      "Local Neigh:  5141\n",
      "Remote Neigh:  4493\n",
      "\n",
      "########## Iter 50 ##########\n",
      "power-iter      Iterations: 19, Total Push Operations: 138559, NNZ: 2485\n",
      "standard        Iterations: 15, Total Push Operations: 6726, NNZ: 541\n",
      "Push dest:  6726\n",
      "Push source:  6726\n",
      "Local:  799\n",
      "Remote:  573\n",
      "Local Neigh:  3708\n",
      "Remote Neigh:  3018\n",
      "\n",
      "\n",
      "########## Results ##########\n",
      "Parameters: lazy_alpha=0.3, alpha=0.462, epsilon=1.0e-06, max_degree=[-1]\n",
      "\n",
      "Avg Push Operations:\n",
      "\tpower-iter: 150230\n",
      "\tstandard: 10205\n",
      "\n",
      "Precision Top-100:\n",
      "\tstandard: 0.992\n",
      "\n",
      "mean power-iter ppr:  3.693e-04\n",
      "Mean Absolute Error:\n",
      "\tstandard: 3.910e-07\n",
      "0.5176075365518613\n",
      "[0.401345850294924, 0.5176422319474836, 0.6141975308641975, 0.1972766522749917, 0.3859961004702374, 0.31329381879762913, 0.9580760480987975, 0.3228646699944537, 0.5634743875278396, 0.6338792700046795, 0.46181944686032356, 0.5548310610551275, 0.5325786858089453, 0.5990019081168355, 0.37590310242243946, 0.4237004847066689, 0.5678934807185027, 0.6987063232982711, 0.555377421509686, 0.41633177048448317, 1.0, 0.3893835422219702, 0.4238122827346466, 0.25707547169811323, 0.42157490396927016, 0.36411986732242935, 0.5037625861155273, 0.332572298325723, 0.6857045143638851, 0.7322904131568392, 0.5890243902439024, 0.25659561782679985, 0.3159751622918431, 0.6407009276984243, 0.7277204021612749, 0.4996220710506425, 0.5215361158757386, 0.5488093360668664, 0.9207811348563006, 0.12967882154069066, 1.0, 0.5361372608563619, 0.4716467880309688, 0.5711739808420584, 0.4169378751717654, 0.5529942965779467, 0.4406415247835435, 0.42284688995215314, 0.5336308905958065, 0.5512934879571811]\n"
     ]
    }
   ],
   "source": [
    "\"\"\"Testing\"\"\"\n",
    "lazy_alpha = 0.3\n",
    "alpha = (2 * lazy_alpha) / (1 + lazy_alpha)\n",
    "\n",
    "max_degree = [-1]#[20, 30, 40, 60, 80, 150]\n",
    "epsilon = 1e-6\n",
    "top_k = 100\n",
    "num_source = 50\n",
    "\n",
    "# Modify your test:\n",
    "#test_list = ['standard', 'lazy', 'bias', 'clipped', 'clipped-lazy', 'clipped-bias']\n",
    "test_list = ['standard']\n",
    "\n",
    "def get_approx_ppr(key_, target_id_, i_):\n",
    "    ppr_func_dict = {\n",
    "        'standard': standard_local_push_ppr,  # PPRGo, r_v = 0\n",
    "        'uniform': uniform_local_push_ppr,  # same as 'standard'\n",
    "        'batch': batch_local_push_ppr,  # update all source nodes simultaneously\n",
    "        'lazy': standard_local_push_ppr,  # original local-push\n",
    "        'lazy-uniform': uniform_local_push_ppr,\n",
    "        'lazy-batch': batch_local_push_ppr,\n",
    "        'bias': standard_local_push_ppr,  # MAPPR, 0 < r_v < threshold\n",
    "        'bias-uniform': uniform_local_push_ppr,  \n",
    "        'bias-batch': batch_local_push_ppr,  \n",
    "        'clipped': standard_local_push_ppr,  # 'standard' ppr on clipped graph\n",
    "        'clipped-lazy': standard_local_push_ppr,\n",
    "        'clipped-bias': standard_local_push_ppr,\n",
    "    }\n",
    "    alpha_ = lazy_alpha if 'lazy' in key_ else alpha\n",
    "    beta_ = 0.5 if 'bias' in key_ else 0.\n",
    "    gamma_ = 0.5 if 'lazy' in key_ else 1.\n",
    "    if 'clipped' in key_:\n",
    "        return ppr_func_dict[key_](g, target_id_, alpha_, epsilon, beta_, gamma_, max_degree[i_])\n",
    "    return ppr_func_dict[key_](g, target_id_, alpha_, epsilon, beta_, gamma_)\n",
    "\n",
    "base_ps = []\n",
    "concurs, errors, pushes = [], [], []\n",
    "\n",
    "core_to_all_ratios = []\n",
    "local_to_all_ratios = []\n",
    "x = []\n",
    "y = []\n",
    "a = []\n",
    "b = []\n",
    "\n",
    "source_nodes = torch.randperm(data.num_nodes)[:num_source]\n",
    "print(source_nodes)\n",
    "for i in range(len(max_degree)):\n",
    "    total_base_p = 0.\n",
    "    total_concur, total_err, total_push = defaultdict(int), defaultdict(float), defaultdict(int)\n",
    "\n",
    "    for epoch, target_id in enumerate(source_nodes):\n",
    "        print(f'\\n########## Iter {epoch+1} ##########')\n",
    "        base_p, base_num_push = power_iter_ppr(norm_adj_t, target_id, alpha, 1e-10, 100, unweighted_degree)\n",
    "        \n",
    "        total_base_p += base_p\n",
    "        total_push['power-iter'] += base_num_push\n",
    "        _, base_top_k = torch.sort(base_p, descending=True)\n",
    "\n",
    "        for key in test_list:\n",
    "            approx_p, approx_num_iter, approx_num_push, push_dest, push_source, push_source_one_each = get_approx_ppr(key, target_id, i)\n",
    "            print(f'{key:15s} Iterations: {approx_num_iter}, Total Push Operations: {approx_num_push}, NNZ: {sum(approx_p > 0)}')\n",
    "\n",
    "            total_push[key] += approx_num_push\n",
    "            total_err[key] += sum(abs(approx_p - base_p)).item()\n",
    "            _, approx_top_k = torch.sort(approx_p, descending=True)\n",
    "            total_concur[key] += np.intersect1d(base_top_k[:top_k], approx_top_k[:top_k]).shape[0]\n",
    "        \n",
    "            print(\"Push dest: \", push_dest.size(0))\n",
    "            print(\"Push source: \", push_source.size(0))\n",
    "            \n",
    "            local_push, remote_push = count_local_and_remotes(push_source_one_each, target_id)\n",
    "            print(\"Local: \", local_push)\n",
    "            print(\"Remote: \", remote_push)\n",
    "            \n",
    "            local_neig_read, remote_neig_read = count_local_and_remotes(push_source, target_id)\n",
    "            print(\"Local Neigh: \", local_neig_read)\n",
    "            print(\"Remote Neigh: \", remote_neig_read)\n",
    "            local_to_all_ratios.append(local_neig_read / push_source.size(0))\n",
    "            core_to_all_ratios.append(local_push/(local_push + remote_push))\n",
    "            x.append(local_push)\n",
    "            y.append(remote_push)\n",
    "            a.append(local_neig_read)\n",
    "            b.append(remote_neig_read)\n",
    "            \n",
    "    base_ps.append(total_base_p)\n",
    "    concurs.append(total_concur)\n",
    "    errors.append(total_err)\n",
    "    pushes.append(total_push)\n",
    "    \n",
    "    # print overall results\n",
    "    print(f'\\n\\n########## Results ##########')\n",
    "    print(f'Parameters: lazy_alpha={lazy_alpha}, alpha={alpha:.3f}, epsilon={epsilon:.1e}, max_degree={max_degree}')\n",
    "\n",
    "    \n",
    "    \n",
    "    print(f'\\nAvg Push Operations:')\n",
    "    for k, val in total_push.items():\n",
    "        print(f'\\t{k}: {val/num_source:.0f}')\n",
    "\n",
    "    print(f'\\nPrecision Top-{top_k}:')\n",
    "    for k, val in total_concur.items():\n",
    "        print(f'\\t{k}: {val/(top_k * num_source):.3f}')\n",
    "\n",
    "    print(f'\\nmean power-iter ppr: {total_base_p.mean().item()/num_source: .3e}'\n",
    "          f'\\nMean Absolute Error:')\n",
    "    for k, val in total_err.items():\n",
    "        print(f'\\t{k}: {val/(data.num_nodes*num_source):.3e}')\n",
    "print(sum(core_to_all_ratios)/len(core_to_all_ratios))\n",
    "print(local_to_all_ratios)"
   ]
  },
  {
   "cell_type": "code",
   "execution_count": 15,
   "metadata": {},
   "outputs": [
    {
     "data": {
      "text/plain": [
       "989.02"
      ]
     },
     "execution_count": 15,
     "metadata": {},
     "output_type": "execute_result"
    }
   ],
   "source": [
    "sum(x)/len(x)"
   ]
  },
  {
   "cell_type": "code",
   "execution_count": 16,
   "metadata": {},
   "outputs": [
    {
     "data": {
      "text/plain": [
       "1088.88"
      ]
     },
     "execution_count": 16,
     "metadata": {},
     "output_type": "execute_result"
    }
   ],
   "source": [
    "sum(y)/len(y)"
   ]
  },
  {
   "cell_type": "code",
   "execution_count": 17,
   "metadata": {},
   "outputs": [
    {
     "data": {
      "text/plain": [
       "4866.38"
      ]
     },
     "execution_count": 17,
     "metadata": {},
     "output_type": "execute_result"
    }
   ],
   "source": [
    "sum(a)/len(a)"
   ]
  },
  {
   "cell_type": "code",
   "execution_count": 18,
   "metadata": {},
   "outputs": [
    {
     "data": {
      "text/plain": [
       "5338.96"
      ]
     },
     "execution_count": 18,
     "metadata": {},
     "output_type": "execute_result"
    }
   ],
   "source": [
    "sum(b)/len(b)"
   ]
  },
  {
   "cell_type": "code",
   "execution_count": null,
   "metadata": {},
   "outputs": [],
   "source": []
  },
  {
   "cell_type": "code",
   "execution_count": null,
   "metadata": {},
   "outputs": [],
   "source": []
  },
  {
   "cell_type": "code",
   "execution_count": 111,
   "metadata": {},
   "outputs": [
    {
     "data": {
      "text/plain": [
       "tensor([0.1081, 0.0015, 0.0028,  ..., 0.0000, 0.0004, 0.0011])"
      ]
     },
     "execution_count": 111,
     "metadata": {},
     "output_type": "execute_result"
    }
   ],
   "source": [
    "base_ps[0]"
   ]
  },
  {
   "cell_type": "code",
   "execution_count": 126,
   "metadata": {},
   "outputs": [
    {
     "data": {
      "text/plain": [
       "4199"
      ]
     },
     "execution_count": 126,
     "metadata": {},
     "output_type": "execute_result"
    }
   ],
   "source": [
    "concurs[0]['clipped']"
   ]
  },
  {
   "cell_type": "code",
   "execution_count": 113,
   "metadata": {},
   "outputs": [
    {
     "data": {
      "text/plain": [
       "[defaultdict(float,\n",
       "             {'clipped': 1.2503700537981786,\n",
       "              'clipped-lazy': 1.2629671896793297,\n",
       "              'clipped-bias': 1.2671323216527526}),\n",
       " defaultdict(float,\n",
       "             {'clipped': 0.9328000917212194,\n",
       "              'clipped-lazy': 0.945839819360117,\n",
       "              'clipped-bias': 0.9535045919801632}),\n",
       " defaultdict(float,\n",
       "             {'clipped': 0.7604935810140887,\n",
       "              'clipped-lazy': 0.7869163358773221,\n",
       "              'clipped-bias': 0.7965196816403477}),\n",
       " defaultdict(float,\n",
       "             {'clipped': 0.5277782433895482,\n",
       "              'clipped-lazy': 0.5239557772947592,\n",
       "              'clipped-bias': 0.5463220324345457}),\n",
       " defaultdict(float,\n",
       "             {'clipped': 0.34559770805026346,\n",
       "              'clipped-lazy': 0.3605622706018039,\n",
       "              'clipped-bias': 0.3663375593350793}),\n",
       " defaultdict(float,\n",
       "             {'clipped': 0.11059905050751695,\n",
       "              'clipped-lazy': 0.12588732390577206,\n",
       "              'clipped-bias': 0.12812620049589896})]"
      ]
     },
     "execution_count": 113,
     "metadata": {},
     "output_type": "execute_result"
    }
   ],
   "source": [
    "errors"
   ]
  },
  {
   "cell_type": "code",
   "execution_count": 120,
   "metadata": {},
   "outputs": [
    {
     "data": {
      "text/plain": [
       "299092"
      ]
     },
     "execution_count": 120,
     "metadata": {},
     "output_type": "execute_result"
    }
   ],
   "source": [
    "pushes[0][\"clipped\"]"
   ]
  },
  {
   "cell_type": "code",
   "execution_count": 127,
   "metadata": {},
   "outputs": [],
   "source": [
    "rw_update = []\n",
    "lrw_update = []\n",
    "mappr_update = []\n",
    "\n",
    "rw_mae = []\n",
    "lrw_mae = []\n",
    "mappr_mae = []\n",
    "\n",
    "rw_precision = []\n",
    "lrw_precision = []\n",
    "mappr_precision = []\n",
    "\n",
    "for i in range(6):\n",
    "    rw_push = pushes[i]['clipped']\n",
    "    lrw_push = pushes[i]['clipped-lazy']\n",
    "    mappr_push = pushes[i]['clipped-bias']\n",
    "    \n",
    "    rw_err = errors[i]['clipped']\n",
    "    lrw_err = errors[i]['clipped-lazy']\n",
    "    mappr_err = errors[i]['clipped-bias']\n",
    "    \n",
    "    rw_pr = concurs[i]['clipped'] / (top_k * num_source)\n",
    "    lrw_pr = concurs[i]['clipped-lazy'] / (top_k * num_source)\n",
    "    mappr_pr = concurs[i]['clipped-bias'] / (top_k * num_source)\n",
    "\n",
    "    rw_update.append(rw_push)\n",
    "    lrw_update.append(lrw_push)    \n",
    "    mappr_update.append(mappr_push)    \n",
    "    \n",
    "    rw_mae.append(rw_err)\n",
    "    lrw_mae.append(lrw_err)    \n",
    "    mappr_mae.append(mappr_err)\n",
    "    \n",
    "    rw_precision.append(rw_pr)\n",
    "    lrw_precision.append(lrw_pr)    \n",
    "    mappr_precision.append(mappr_pr)"
   ]
  },
  {
   "cell_type": "code",
   "execution_count": 129,
   "metadata": {},
   "outputs": [
    {
     "data": {
      "text/plain": [
       "[0.8398, 0.8732, 0.895, 0.9142, 0.935, 0.9584]"
      ]
     },
     "execution_count": 129,
     "metadata": {},
     "output_type": "execute_result"
    }
   ],
   "source": [
    "rw_precision"
   ]
  },
  {
   "cell_type": "code",
   "execution_count": null,
   "metadata": {},
   "outputs": [],
   "source": []
  },
  {
   "cell_type": "code",
   "execution_count": 133,
   "metadata": {},
   "outputs": [
    {
     "data": {
      "text/plain": [
       "<Figure size 432x288 with 0 Axes>"
      ]
     },
     "metadata": {},
     "output_type": "display_data"
    },
    {
     "data": {
      "image/png": "[encoded data removed]",
      "text/plain": [
       "<Figure size 720x432 with 1 Axes>"
      ]
     },
     "metadata": {
      "needs_background": "light"
     },
     "output_type": "display_data"
    }
   ],
   "source": [
    "import matplotlib.pyplot as plt\n",
    "import numpy as np\n",
    "\n",
    "plt.clf()\n",
    "\n",
    "fig, ax = plt.subplots()\n",
    "ax.grid(True)\n",
    "\n",
    "plt.plot(rw_update, rw_precision, 'o--', label=\"RW\")\n",
    "plt.plot(lrw_update, lrw_precision, 'o--', label=\"LRW\")\n",
    "plt.plot(mappr_update, mappr_precision, 'o--', label=\"MAPPR\")\n",
    "\n",
    "plt.legend(loc='lower right')\n",
    "\n",
    "plt.xlabel(\"Total Number of Pushes\")\n",
    "plt.ylabel(\"Precision\")\n",
    "plt.title(\"Comparison of RW-LRW-MAPPR with max degree = [20, 30, 40, 60, 80, 150]\")\n",
    "\n",
    "fig = plt.gcf()\n",
    "fig.set_size_inches(10, 6)\n",
    "\n",
    "plt.show()"
   ]
  },
  {
   "cell_type": "code",
   "execution_count": 134,
   "metadata": {},
   "outputs": [
    {
     "data": {
      "text/plain": [
       "<Figure size 432x288 with 0 Axes>"
      ]
     },
     "metadata": {},
     "output_type": "display_data"
    },
    {
     "data": {
      "image/png": "[encoded data removed]",
      "text/plain": [
       "<Figure size 720x432 with 1 Axes>"
      ]
     },
     "metadata": {
      "needs_background": "light"
     },
     "output_type": "display_data"
    }
   ],
   "source": [
    "import matplotlib.pyplot as plt\n",
    "import numpy as np\n",
    "\n",
    "plt.clf()\n",
    "\n",
    "fig, ax = plt.subplots()\n",
    "ax.grid(True)\n",
    "\n",
    "plt.plot(rw_update, rw_mae, 'o--', label=\"RW\")\n",
    "plt.plot(lrw_update, lrw_mae, 'o--', label=\"LRW\")\n",
    "plt.plot(mappr_update, mappr_mae, 'o--', label=\"MAPPR\")\n",
    "\n",
    "plt.legend(loc='lower right')\n",
    "\n",
    "plt.xlabel(\"Total Number of Pushes\")\n",
    "plt.ylabel(\"Mean Absolute Error\")\n",
    "plt.title(\"Comparison of RW-LRW-MAPPR with max degree = [20, 30, 40, 60, 80, 150]\")\n",
    "\n",
    "fig = plt.gcf()\n",
    "fig.set_size_inches(10, 6)\n",
    "\n",
    "plt.show()"
   ]
  },
  {
   "cell_type": "code",
   "execution_count": 83,
   "metadata": {
    "scrolled": false
   },
   "outputs": [
    {
     "data": {
      "text/plain": [
       "<Figure size 432x288 with 0 Axes>"
      ]
     },
     "metadata": {},
     "output_type": "display_data"
    },
    {
     "data": {
      "image/png": "[encoded data removed]",
      "text/plain": [
       "<Figure size 720x432 with 1 Axes>"
      ]
     },
     "metadata": {
      "needs_background": "light"
     },
     "output_type": "display_data"
    }
   ],
   "source": [
    "import matplotlib.pyplot as plt\n",
    "import numpy as np\n",
    "\n",
    "plt.clf()\n",
    "\n",
    "fig, ax = plt.subplots()\n",
    "ax.grid(True)\n",
    "\n",
    "xpoints = np.array([total_push['standard'], total_push['lazy'], total_push['bias'],\n",
    "                    total_push['batch'], total_push['lazy-batch'], total_push['bias-batch']])\n",
    "\n",
    "ypoints = np.array([total_err['standard'], total_err['lazy'], total_err['bias'],\n",
    "                    total_err['batch'], total_err['lazy-batch'], total_err['bias-batch']])\n",
    "            \n",
    "for i in range(6):\n",
    "    plt.plot(xpoints[i], ypoints[i], 'o', label=test_list[i])\n",
    "plt.legend(loc='best')\n",
    "\n",
    "plt.xlabel(\"Total Number of Pushes\")\n",
    "plt.ylabel(\"Mean Absolute Error\")\n",
    "plt.title(\"Comparison of RW-LRW-MAPPR in batch/non-batch Scenerios\")\n",
    "\n",
    "fig = plt.gcf()\n",
    "fig.set_size_inches(10, 6)\n",
    "\n",
    "plt.show()"
   ]
  },
  {
   "cell_type": "code",
   "execution_count": 85,
   "metadata": {},
   "outputs": [
    {
     "data": {
      "text/plain": [
       "<Figure size 432x288 with 0 Axes>"
      ]
     },
     "metadata": {},
     "output_type": "display_data"
    },
    {
     "data": {
      "image/png": "[encoded data removed]",
      "text/plain": [
       "<Figure size 720x432 with 1 Axes>"
      ]
     },
     "metadata": {
      "needs_background": "light"
     },
     "output_type": "display_data"
    }
   ],
   "source": [
    "import matplotlib.pyplot as plt\n",
    "import numpy as np\n",
    "\n",
    "plt.clf()\n",
    "\n",
    "fig, ax = plt.subplots()\n",
    "ax.grid(True)\n",
    "\n",
    "xpoints = np.array([total_push['standard'], total_push['lazy'], total_push['bias'],\n",
    "                    total_push['batch'], total_push['lazy-batch'], total_push['bias-batch']])\n",
    "\n",
    "ypoints = np.array([total_concur['standard'], total_concur['lazy'], total_concur['bias'],\n",
    "                    total_concur['batch'], total_concur['lazy-batch'], total_concur['bias-batch']])\n",
    "\n",
    "\n",
    "for i in range(6):\n",
    "    plt.plot(xpoints[i], ypoints[i]/(top_k * num_source), 'o', label=test_list[i])\n",
    "plt.legend(loc='best')\n",
    "\n",
    "plt.xlabel(\"Total Number of Pushes\")\n",
    "plt.ylabel(\"Top Precision\")\n",
    "plt.title(\"Comparison of RW-LRW-MAPPR in batch/non-batch Scenerios\")\n",
    "\n",
    "fig = plt.gcf()\n",
    "fig.set_size_inches(10, 6)\n",
    "\n",
    "plt.show()"
   ]
  },
  {
   "cell_type": "code",
   "execution_count": null,
   "metadata": {},
   "outputs": [],
   "source": []
  },
  {
   "cell_type": "code",
   "execution_count": null,
   "metadata": {},
   "outputs": [],
   "source": []
  },
  {
   "cell_type": "code",
   "execution_count": null,
   "metadata": {},
   "outputs": [],
   "source": []
  },
  {
   "cell_type": "markdown",
   "metadata": {},
   "source": [
    "## PPRGO (close to C implementation)"
   ]
  },
  {
   "cell_type": "code",
   "execution_count": null,
   "metadata": {
    "pycharm": {
     "name": "#%%\n"
    }
   },
   "outputs": [],
   "source": [
    "def _calc_ppr_node(target_id_, indptr_, indices_, degree_, weights_, alpha_, epsilon_):\n",
    "    alpha_eps = alpha_ * epsilon_\n",
    "    f32_0 = 0.\n",
    "    p = {target_id_: f32_0}\n",
    "    r = {target_id_: alpha_}\n",
    "    q = [target_id_]\n",
    "    while len(q) > 0:\n",
    "        unode = q.pop()\n",
    "\n",
    "        res = r[unode] if unode in r else f32_0\n",
    "        if unode in p:\n",
    "            p[unode] += res\n",
    "        else:\n",
    "            p[unode] = res\n",
    "        r[unode] = f32_0\n",
    "        for vnode in indices_[indptr_[unode]:indptr_[unode + 1]]:\n",
    "            _val = (1 - alpha_) * res * weights_[unode] / degree_[unode]\n",
    "            if vnode in r:\n",
    "                r[vnode] += _val\n",
    "            else:\n",
    "                r[vnode] = _val\n",
    "\n",
    "            res_vnode = r[vnode] if vnode in r else f32_0\n",
    "            if res_vnode >= alpha_eps * degree_[vnode]:\n",
    "                if vnode not in q:\n",
    "                    q.append(vnode)\n",
    "\n",
    "    return list(p.keys()), list(p.values())\n",
    "\n",
    "# PPRGO Implementation, needs numba compiler acceleration\n",
    "# Root nodes level parallelization\n",
    "_calc_ppr_node(0, indptr.tolist(), indices.tolist(), degree.tolist(), value.tolist(), 0.15, 1e-3)"
   ]
  },
  {
   "cell_type": "code",
   "execution_count": null,
   "metadata": {},
   "outputs": [],
   "source": [
    "--max 20--\n",
    "Avg Push Operations:\n",
    "\tpower-iter: 129117\n",
    "\tstandard: 8634\n",
    "\tlazy: 23398\n",
    "\tbias: 10039\n",
    "\n",
    "nUM Push Operations:\n",
    "\tpower-iter: 6455829\n",
    "\tstandard: 431690\n",
    "\tlazy: 1169905\n",
    "\tbias: 501929\n",
    "        \n",
    "Mean Absolute Error:\n",
    "\tstandard: 3.387e-07\n",
    "\tlazy: 4.496e-07\n",
    "\tbias: 4.740e-07\n",
    "        \n",
    "        \n",
    "--max 30--\n",
    "Avg Push Operations:\n",
    "\tpower-iter: 149796\n",
    "\tstandard: 10385\n",
    "\tlazy: 28189\n",
    "\tbias: 12110\n",
    "\n",
    "nUM Push Operations:\n",
    "\tpower-iter: 7489810\n",
    "\tstandard: 519233\n",
    "\tlazy: 1409450\n",
    "\tbias: 605501\n",
    "\n",
    "mean power-iter ppr:  3.693e-04\n",
    "Mean Absolute Error:\n",
    "\tstandard: 3.949e-07\n",
    "\tlazy: 5.278e-07\n",
    "\tbias: 5.562e-07\n",
    "        \n",
    "        \n",
    "\n",
    "--max 40--\n",
    "Avg Push Operations:\n",
    "\tpower-iter: 130903\n",
    "\tstandard: 9342\n",
    "\tlazy: 25028\n",
    "\tbias: 10864\n",
    "\n",
    "nUM Push Operations:\n",
    "\tpower-iter: 6545153\n",
    "\tstandard: 467120\n",
    "\tlazy: 1251420\n",
    "\tbias: 543176\n",
    "\n",
    "mean power-iter ppr:  3.693e-04\n",
    "Mean Absolute Error:\n",
    "\tstandard: 3.493e-07\n",
    "\tlazy: 4.737e-07\n",
    "\tbias: 4.996e-07\n",
    "        \n",
    "\n",
    "        \n",
    "--max 60--\n",
    "Avg Push Operations:\n",
    "\tpower-iter: 134912\n",
    "\tstandard: 9859\n",
    "\tlazy: 26484\n",
    "\tbias: 11506\n",
    "\n",
    "nUM Push Operations:\n",
    "\tpower-iter: 6745581\n",
    "\tstandard: 492940\n",
    "\tlazy: 1324184\n",
    "\tbias: 575312\n",
    "\n",
    "mean power-iter ppr:  3.693e-04\n",
    "Mean Absolute Error:\n",
    "\tstandard: 3.723e-07\n",
    "\tlazy: 5.023e-07\n",
    "\tbias: 5.298e-07\n",
    "        \n",
    "\n",
    "    \n",
    "--max 80--\n",
    "Avg Push Operations:\n",
    "\tpower-iter: 146762\n",
    "\tstandard: 10232\n",
    "\tlazy: 27453\n",
    "\tbias: 11965\n",
    "\n",
    "nUM Push Operations:\n",
    "\tpower-iter: 7338102\n",
    "\tstandard: 511620\n",
    "\tlazy: 1372668\n",
    "\tbias: 598229\n",
    "\n",
    "mean power-iter ppr:  3.693e-04\n",
    "Mean Absolute Error:\n",
    "\tstandard: 3.833e-07\n",
    "\tlazy: 5.141e-07\n",
    "\tbias: 5.427e-07\n",
    "      \n",
    "    \n",
    "--max 150--\n",
    "Avg Push Operations:\n",
    "\tpower-iter: 142778\n",
    "\tstandard: 9814\n",
    "\tlazy: 25928\n",
    "\tbias: 11456\n",
    "\n",
    "nUM Push Operations:\n",
    "\tpower-iter: 7138914\n",
    "\tstandard: 490723\n",
    "\tlazy: 1296393\n",
    "\tbias: 572792\n",
    "\n",
    "mean power-iter ppr:  3.693e-04\n",
    "Mean Absolute Error:\n",
    "\tstandard: 3.758e-07\n",
    "\tlazy: 5.030e-07\n",
    "\tbias: 5.320e-07\n",
    "        \n",
    "rw_update = [431690, 519233, 467120, 492940, 511620, 490723]\n",
    "rw_mae = [3.387e-07, 3.949e-07, 3.493e-07, 3.723e-07, 3.833e-07, 3.758e-07]\n",
    "\n",
    "lrw_update = [1169905, 1409450, 1251420, 1324184, 1372668, 1296393]\n",
    "lrw_mae = [4.496e-07, 5.278e-07, 4.737e-07, 5.023e-07, 5.141e-07, 5.030e-07]\n",
    "\n",
    "mappr_update = [501929, 605501, 543176, 575312, 598229, 572792]\n",
    "mappr_mae = [4.740e-07, 5.562e-07, 4.996e-07, 5.298e-07, 5.427e-07, 5.320e-07]      \n",
    "              "
   ]
  }
 ],
 "metadata": {
  "kernelspec": {
   "display_name": "Python 3 (ipykernel)",
   "language": "python",
   "name": "python3"
  },
  "language_info": {
   "codemirror_mode": {
    "name": "ipython",
    "version": 3
   },
   "file_extension": ".py",
   "mimetype": "text/x-python",
   "name": "python",
   "nbconvert_exporter": "python",
   "pygments_lexer": "ipython3",
   "version": "3.8.10"
  }
 },
 "nbformat": 4,
 "nbformat_minor": 1
}
