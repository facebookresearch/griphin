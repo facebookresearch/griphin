{
 "cells": [
  {
   "cell_type": "code",
   "execution_count": 3,
   "metadata": {
    "collapsed": true
   },
   "outputs": [],
   "source": [
    "import dgl\n",
    "import torch\n",
    "from ogb.nodeproppred import DglNodePropPredDataset"
   ]
  },
  {
   "cell_type": "code",
   "execution_count": 20,
   "outputs": [
    {
     "data": {
      "text/plain": "Graph(num_nodes=2449029, num_edges=247436304,\n      ndata_schemes={'feat': Scheme(shape=(100,), dtype=torch.float32), 'weighted_degree': Scheme(shape=(), dtype=torch.float32)}\n      edata_schemes={'w': Scheme(shape=(), dtype=torch.float32), '_ID': Scheme(shape=(), dtype=torch.int64)})"
     },
     "execution_count": 20,
     "metadata": {},
     "output_type": "execute_result"
    }
   ],
   "source": [
    "og, _ = DglNodePropPredDataset(name='ogbn-products', root='/data/gangda/dgl')[0]\n",
    "\n",
    "og.edata['w'] = torch.rand((og.num_edges()))\n",
    "g = dgl.add_reverse_edges(og, copy_edata=True)\n",
    "g.update_all(dgl.function.copy_e('w', 'weighted_degree'), dgl.function.sum('weighted_degree', 'weighted_degree'))\n",
    "g"
   ],
   "metadata": {
    "collapsed": false
   }
  },
  {
   "cell_type": "code",
   "execution_count": 62,
   "outputs": [
    {
     "data": {
      "text/plain": "123718280"
     },
     "execution_count": 62,
     "metadata": {},
     "output_type": "execute_result"
    }
   ],
   "source": [
    "og.num_edges()"
   ],
   "metadata": {
    "collapsed": false
   }
  },
  {
   "cell_type": "code",
   "execution_count": 35,
   "outputs": [
    {
     "data": {
      "text/plain": "tensor([178.9047,  86.3341,  41.2517,  ...,  46.5904,   7.1525,  38.6172])"
     },
     "execution_count": 35,
     "metadata": {},
     "output_type": "execute_result"
    }
   ],
   "source": [
    "g.ndata['weighted_degree']"
   ],
   "metadata": {
    "collapsed": false
   }
  },
  {
   "cell_type": "code",
   "execution_count": 50,
   "outputs": [
    {
     "data": {
      "text/plain": "SparseMatrix(indices=tensor([[      0,  152857,       0,  ...,  162836, 2449028,   53324],\n                             [ 152857,       0,   32104,  ..., 2449028,   53324, 2449028]]),\n             values=tensor([0.4355, 0.1665, 0.8116,  ..., 0.4880, 0.6745, 0.8705]),\n             shape=(2449029, 2449029), nnz=247436304)"
     },
     "execution_count": 50,
     "metadata": {},
     "output_type": "execute_result"
    }
   ],
   "source": [
    "import dgl.sparse as dglsp\n",
    "\n",
    "edge_index = torch.stack(g.edges())\n",
    "N = g.num_nodes()\n",
    "A = dglsp.spmatrix(indices=edge_index, val=g.edata['w'], shape=(N, N))\n",
    "A"
   ],
   "metadata": {
    "collapsed": false
   }
  },
  {
   "cell_type": "code",
   "execution_count": 52,
   "outputs": [
    {
     "data": {
      "text/plain": "SparseMatrix(indices=tensor([[      0,  152857,       0,  ...,  162836, 2449028,   53324],\n                             [ 152857,       0,   32104,  ..., 2449028,   53324, 2449028]]),\n             values=tensor([0.0024, 0.0001, 0.0045,  ..., 0.0013, 0.0175, 0.0008]),\n             shape=(2449029, 2449029), nnz=247436304)"
     },
     "execution_count": 52,
     "metadata": {},
     "output_type": "execute_result"
    }
   ],
   "source": [
    "D = dglsp.diag(A.sum(dim=1))\n",
    "(D ** -1) @ A"
   ],
   "metadata": {
    "collapsed": false
   }
  },
  {
   "cell_type": "code",
   "execution_count": 63,
   "outputs": [
    {
     "data": {
      "text/plain": "tensor([178.9048,  86.3341,  41.2517,  ...,  46.5904,   7.1525,  38.6172])"
     },
     "execution_count": 63,
     "metadata": {},
     "output_type": "execute_result"
    }
   ],
   "source": [
    "A.sum(dim=1)"
   ],
   "metadata": {
    "collapsed": false
   }
  },
  {
   "cell_type": "code",
   "execution_count": 60,
   "outputs": [
    {
     "data": {
      "text/plain": "torch.Size([665742])"
     },
     "execution_count": 60,
     "metadata": {},
     "output_type": "execute_result"
    }
   ],
   "source": [
    "d = g.ndata['weighted_degree'] - A.sum(dim=1)\n",
    "d[d > 1e-6].shape"
   ],
   "metadata": {
    "collapsed": false
   }
  },
  {
   "cell_type": "markdown",
   "source": [
    "---"
   ],
   "metadata": {
    "collapsed": false
   }
  },
  {
   "cell_type": "code",
   "execution_count": 47,
   "outputs": [
    {
     "name": "stdout",
     "output_type": "stream",
     "text": [
      "SparseMatrix(indices=tensor([[1, 1, 2],\n",
      "                             [0, 2, 0]]),\n",
      "             values=tensor([1., 1., 1.]),\n",
      "             shape=(3, 3), nnz=3)\n",
      "\n",
      "In dense format:\n",
      "tensor([[0., 0., 0.],\n",
      "        [1., 0., 1.],\n",
      "        [1., 0., 0.]])\n"
     ]
    },
    {
     "data": {
      "text/plain": "(tensor([0, 0, 2, 3]), tensor([0, 2, 0]), tensor([0, 1, 2]))"
     },
     "execution_count": 47,
     "metadata": {},
     "output_type": "execute_result"
    }
   ],
   "source": [
    "i = torch.tensor([[1, 1, 2],\n",
    "                  [0, 2, 0]])\n",
    "A = dglsp.spmatrix(i)  # 1.0 is default value for nnz elements.\n",
    "\n",
    "print(A)\n",
    "print(\"\")\n",
    "print(\"In dense format:\")\n",
    "print(A.to_dense())\n",
    "A.csr()"
   ],
   "metadata": {
    "collapsed": false
   }
  },
  {
   "cell_type": "code",
   "execution_count": 67,
   "outputs": [
    {
     "data": {
      "text/plain": "tensor([ True, False, False, False])"
     },
     "execution_count": 67,
     "metadata": {},
     "output_type": "execute_result"
    }
   ],
   "source": [
    "t = torch.tensor([1, 0, 0, 0], dtype=torch.bool)\n",
    "t & t"
   ],
   "metadata": {
    "collapsed": false
   }
  },
  {
   "cell_type": "code",
   "execution_count": 93,
   "outputs": [
    {
     "data": {
      "text/plain": "['d23-[10', '13-16]', 'e21-[01-03]']"
     },
     "execution_count": 93,
     "metadata": {},
     "output_type": "execute_result"
    }
   ],
   "source": [
    "import re\n",
    "\n",
    "input_str = 'd23-[10,13-16],e21-[01-03]'\n",
    "\n",
    "input_str = input_str.split(',')\n",
    "input_str"
   ],
   "metadata": {
    "collapsed": false
   }
  },
  {
   "cell_type": "code",
   "execution_count": 144,
   "outputs": [
    {
     "name": "stdout",
     "output_type": "stream",
     "text": [
      "['a02-01', 'a02-06', 'a02-20', 'a03-01', 'a03-06', 'a03-15', 'e02-42', 'e02-50', 'e02-57', 'e02-58', 'e02-59', 'e02-60', 'e02-61', 'e02-62', 'e02-65', 'e02-66', 'e02-67', 'e02-68', 'e02-69', 'e02-79', 'b05-14', 'b10-13']\n"
     ]
    }
   ],
   "source": [
    "import re\n",
    "\n",
    "input_string = \"a02-[01,06,20],a03-[01,06,15],b05-14,e02-[42,50,57-62,65-69,79],b10-13\"\n",
    "pattern = r'([a-z]\\d{2})-\\[(.*?)\\]'\n",
    "matches = re.findall(pattern, input_string)\n",
    "\n",
    "hostnames = []\n",
    "for prefix, values in matches:\n",
    "    value_list = re.split(r'[,]', values)\n",
    "    for value in value_list:\n",
    "        if '-' in value:\n",
    "            start, end = map(int, value.split('-'))\n",
    "            for i in range(start, end + 1):\n",
    "                hostnames.append(f'{prefix}-{str(i).zfill(2)}')\n",
    "        else:\n",
    "            hostnames.append(f'{prefix}-{value}')\n",
    "\n",
    "# Handling single entries\n",
    "single_entries = re.findall(r'([a-z]\\d{2}-\\d{2})', input_string)\n",
    "hostnames.extend(single_entries)\n",
    "\n",
    "print(hostnames)"
   ],
   "metadata": {
    "collapsed": false
   }
  },
  {
   "cell_type": "code",
   "execution_count": 146,
   "outputs": [
    {
     "data": {
      "text/plain": "2"
     },
     "execution_count": 146,
     "metadata": {},
     "output_type": "execute_result"
    }
   ],
   "source": [
    "hostnames.index('a02-20')"
   ],
   "metadata": {
    "collapsed": false
   }
  },
  {
   "cell_type": "code",
   "execution_count": 120,
   "outputs": [
    {
     "data": {
      "text/plain": "'b04-10'"
     },
     "execution_count": 120,
     "metadata": {},
     "output_type": "execute_result"
    }
   ],
   "source": [
    "input_str = 'b04-[10-11],b09-[09-11]'\n",
    "\n",
    "master_addr = input_str.split(',')[0]\n",
    "match = re.match(r'(\\w+-)\\[(\\w+)', master_addr)\n",
    "if match:\n",
    "    master_addr = match.group(1) + match.group(2)\n",
    "\n",
    "master_addr"
   ],
   "metadata": {
    "collapsed": false
   }
  }
 ],
 "metadata": {
  "kernelspec": {
   "display_name": "Python 3",
   "language": "python",
   "name": "python3"
  },
  "language_info": {
   "codemirror_mode": {
    "name": "ipython",
    "version": 2
   },
   "file_extension": ".py",
   "mimetype": "text/x-python",
   "name": "python",
   "nbconvert_exporter": "python",
   "pygments_lexer": "ipython2",
   "version": "2.7.6"
  }
 },
 "nbformat": 4,
 "nbformat_minor": 0
}
