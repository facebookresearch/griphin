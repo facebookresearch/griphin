{
 "cells": [
  {
   "cell_type": "code",
   "execution_count": 2,
   "metadata": {
    "collapsed": true
   },
   "outputs": [
    {
     "data": {
      "text/plain": "2000"
     },
     "execution_count": 2,
     "metadata": {},
     "output_type": "execute_result"
    }
   ],
   "source": [
    "import torch\n",
    "import sys\n",
    "\n",
    "NUM_DATA = 500\n",
    "t = torch.rand(NUM_DATA, dtype=torch.float32)\n",
    "t.element_size() * t.numel()"
   ]
  },
  {
   "cell_type": "code",
   "execution_count": 4,
   "outputs": [],
   "source": [
    "from ogb.nodeproppred import PygNodePropPredDataset\n",
    "import torch_geometric.transforms as T\n",
    "import os.path as osp\n",
    "\n",
    "path = osp.join('/data/gangda', 'ogb')\n",
    "dataset = PygNodePropPredDataset(name='ogbn-products', root=path, transform=T.ToSparseTensor())\n",
    "data = dataset[0]"
   ],
   "metadata": {
    "collapsed": false,
    "pycharm": {
     "name": "#%%\n"
    }
   }
  },
  {
   "cell_type": "code",
   "execution_count": 20,
   "outputs": [
    {
     "data": {
      "text/plain": "SparseTensor(row=tensor([      0,       0,       0,  ..., 2449028, 2449028, 2449028]),\n             col=tensor([    384,    2412,    7554,  ..., 1787657, 1864057, 2430488]),\n             val=tensor([0.3932, 0.8904, 0.9028,  ..., 0.4292, 0.5621, 0.6839]),\n             size=(2449029, 2449029), nnz=123718280, density=0.00%)"
     },
     "execution_count": 20,
     "metadata": {},
     "output_type": "execute_result"
    }
   ],
   "source": [
    "data.adj_t.set_value_(torch.rand(data.num_edges), layout='csc')"
   ],
   "metadata": {
    "collapsed": false,
    "pycharm": {
     "name": "#%%\n"
    }
   }
  },
  {
   "cell_type": "code",
   "execution_count": 22,
   "outputs": [
    {
     "name": "stdout",
     "output_type": "stream",
     "text": [
      "Computing METIS partitioning with 4 parts... Done! [14.74s]\n",
      "Permuting data... Done! [29.68s]\n"
     ]
    }
   ],
   "source": [
    "from torch_geometric_autoscale import metis, permute, SubgraphLoader\n",
    "\n",
    "perm, ptr = metis(data.adj_t, 4, log=True)\n",
    "data_ = permute(data, perm, log=True)"
   ],
   "metadata": {
    "collapsed": false,
    "pycharm": {
     "name": "#%%\n"
    }
   }
  },
  {
   "cell_type": "code",
   "execution_count": 125,
   "outputs": [],
   "source": [
    "degree = data_.adj_t.sum(dim=1)\n",
    "indptr, indices, value = data_.adj_t.csr()"
   ],
   "metadata": {
    "collapsed": false,
    "pycharm": {
     "name": "#%%\n"
    }
   }
  },
  {
   "cell_type": "code",
   "execution_count": 134,
   "outputs": [
    {
     "name": "stdout",
     "output_type": "stream",
     "text": [
      "2.894808769226074\n"
     ]
    },
    {
     "data": {
      "text/plain": "2.8948090076446533"
     },
     "execution_count": 134,
     "metadata": {},
     "output_type": "execute_result"
    }
   ],
   "source": [
    "i = 0\n",
    "print(degree[i].item())\n",
    "value[indptr[i]:indptr[i+1]].sum().item()"
   ],
   "metadata": {
    "collapsed": false,
    "pycharm": {
     "name": "#%%\n"
    }
   }
  },
  {
   "cell_type": "code",
   "execution_count": 75,
   "outputs": [
    {
     "name": "stdout",
     "output_type": "stream",
     "text": [
      "Pre-processing subgraphs... Done! [3.67s]\n"
     ]
    }
   ],
   "source": [
    "data_list = list(SubgraphLoader(data_, ptr, batch_size=1, shuffle=False))\n",
    "sub_data = data_list[0]"
   ],
   "metadata": {
    "collapsed": false,
    "pycharm": {
     "name": "#%%\n"
    }
   }
  },
  {
   "cell_type": "code",
   "execution_count": 84,
   "outputs": [
    {
     "data": {
      "text/plain": "tensor(2.8948)"
     },
     "execution_count": 84,
     "metadata": {},
     "output_type": "execute_result"
    }
   ],
   "source": [
    "res = sub_data.data.adj_t.csr()\n",
    "res[2][:6].sum()"
   ],
   "metadata": {
    "collapsed": false,
    "pycharm": {
     "name": "#%%\n"
    }
   }
  },
  {
   "cell_type": "code",
   "execution_count": 86,
   "outputs": [
    {
     "data": {
      "text/plain": "SparseTensor(row=tensor([      0,       0,       0,  ..., 2449028, 2449028, 2449028]),\n             col=tensor([    384,    2412,    7554,  ..., 1787657, 1864057, 2430488]),\n             val=tensor([0.7309, 0.3331, 0.4298,  ..., 0.7652, 0.4662, 0.5261]),\n             size=(2449029, 2449029), nnz=123718280, density=0.00%)"
     },
     "execution_count": 86,
     "metadata": {},
     "output_type": "execute_result"
    }
   ],
   "source": [
    "adj = data.adj_t.t()\n",
    "perm, ptr = metis(adj, 4, log=True)\n",
    "data_ = permute(data, perm, log=True)"
   ],
   "metadata": {
    "collapsed": false,
    "pycharm": {
     "name": "#%%\n"
    }
   }
  },
  {
   "cell_type": "code",
   "execution_count": 85,
   "outputs": [
    {
     "data": {
      "text/plain": "tensor([ 2.8948,  8.1311,  5.3858,  ...,  4.2185, 61.1699, 19.1762])"
     },
     "execution_count": 85,
     "metadata": {},
     "output_type": "execute_result"
    }
   ],
   "source": [
    "data_.adj_t.sum(dim=1).to(torch.float)"
   ],
   "metadata": {
    "collapsed": false,
    "pycharm": {
     "name": "#%%\n"
    }
   }
  },
  {
   "cell_type": "code",
   "execution_count": null,
   "outputs": [],
   "source": [
    "d = {1: (1, 1),\n",
    "     2: (2, 2),\n",
    "     3: (3, 3)}\n",
    "a = list(d.values())\n",
    "a[0] = (2, 2)\n",
    "for i, j in d.values():\n",
    "     print(i, j)"
   ],
   "metadata": {
    "collapsed": false,
    "pycharm": {
     "name": "#%%\n"
    }
   }
  },
  {
   "cell_type": "code",
   "execution_count": 8,
   "outputs": [
    {
     "data": {
      "text/plain": "104.35"
     },
     "execution_count": 8,
     "metadata": {},
     "output_type": "execute_result"
    }
   ],
   "source": [
    "1.0435e+02"
   ],
   "metadata": {
    "collapsed": false,
    "pycharm": {
     "name": "#%%\n"
    }
   }
  },
  {
   "cell_type": "code",
   "execution_count": 2,
   "outputs": [],
   "source": [
    "import dgl\n",
    "import torch\n",
    "from ogb.nodeproppred import DglNodePropPredDataset\n",
    "from scipy.sparse import csr_matrix\n",
    "\n",
    "dataset = DglNodePropPredDataset(name='ogbn-products', root='/data/gangda/dgl')\n",
    "g, labels = dataset[0]\n",
    "\n",
    "edge_weight = torch.rand(g.num_edges())\n",
    "g_csr_format = csr_matrix((edge_weight, (g.edges()[0], g.edges()[1])), shape=(g.num_nodes(), g.num_nodes()))"
   ],
   "metadata": {
    "collapsed": false,
    "pycharm": {
     "name": "#%%\n"
    }
   }
  },
  {
   "cell_type": "code",
   "execution_count": 3,
   "outputs": [
    {
     "name": "stderr",
     "output_type": "stream",
     "text": [
      "100%|██████████| 2449029/2449029 [00:46<00:00, 52173.28it/s]\n"
     ]
    }
   ],
   "source": [
    "from tqdm import tqdm\n",
    "\n",
    "weighted_degrees = []\n",
    "\n",
    "for i in tqdm(range(len(g_csr_format.indptr) - 1)):\n",
    "    start = g_csr_format.indptr[i]\n",
    "    end = g_csr_format.indptr[i + 1]\n",
    "\n",
    "    weighted = 0\n",
    "    for j in range(start, end):\n",
    "        u = g_csr_format.indices[j]\n",
    "        weighted += g_csr_format.data[u]\n",
    "\n",
    "    weighted_degrees.append(weighted)\n",
    "\n",
    "weighted_degrees = torch.tensor(weighted_degrees)"
   ],
   "metadata": {
    "collapsed": false,
    "pycharm": {
     "name": "#%%\n"
    }
   }
  },
  {
   "cell_type": "code",
   "execution_count": 53,
   "outputs": [
    {
     "name": "stderr",
     "output_type": "stream",
     "text": [
      "100%|██████████| 2449029/2449029 [00:14<00:00, 169944.22it/s]\n"
     ]
    },
    {
     "data": {
      "text/plain": "tensor([91.1288, 48.1758, 19.3833,  ..., 22.1408,  3.6230, 18.9324])"
     },
     "execution_count": 53,
     "metadata": {},
     "output_type": "execute_result"
    }
   ],
   "source": [
    "weighted_degrees = torch.zeros(g.num_nodes())\n",
    "\n",
    "for i in tqdm(range(g.num_nodes())):\n",
    "    start = g_csr_format.indptr[i]\n",
    "    end = g_csr_format.indptr[i + 1]\n",
    "    weighted_degrees[i] = edge_weight[start: end].sum()\n",
    "\n",
    "weighted_degrees"
   ],
   "metadata": {
    "collapsed": false,
    "pycharm": {
     "name": "#%%\n"
    }
   }
  },
  {
   "cell_type": "code",
   "execution_count": 9,
   "outputs": [
    {
     "name": "stdout",
     "output_type": "stream",
     "text": [
      "Convert a graph into a bidirected graph: 4.650 seconds, peak memory: 39.748 GB\n",
      "Construct multi-constraint weights: 0.001 seconds, peak memory: 39.748 GB\n"
     ]
    },
    {
     "name": "stderr",
     "output_type": "stream",
     "text": [
      "[15:20:13] /opt/dgl/src/graph/transform/metis_partition_hetero.cc:89: Partition a graph with 2449029 nodes and 123718408 edges into 4 parts and get 3130186 edge cuts\n"
     ]
    },
    {
     "name": "stdout",
     "output_type": "stream",
     "text": [
      "Metis partitioning: 21.856 seconds, peak memory: 39.748 GB\n",
      "Split the graph: 15.728 seconds\n",
      "Construct subgraphs: 2.534 seconds\n"
     ]
    }
   ],
   "source": [
    "partitions = dgl.metis_partition(g, k=4, extra_cached_hops=1, reshuffle=False, balance_edges=False, mode='k-way')"
   ],
   "metadata": {
    "collapsed": false,
    "pycharm": {
     "name": "#%%\n"
    }
   }
  },
  {
   "cell_type": "code",
   "execution_count": 66,
   "outputs": [
    {
     "data": {
      "text/plain": "Graph(num_nodes=896044, num_edges=32780964,\n      ndata_schemes={'_ID': Scheme(shape=(), dtype=torch.int64), 'inner_node': Scheme(shape=(), dtype=torch.int32), 'part_id': Scheme(shape=(), dtype=torch.int64)}\n      edata_schemes={'_ID': Scheme(shape=(), dtype=torch.int64), 'inner_edge': Scheme(shape=(), dtype=torch.int8)})"
     },
     "execution_count": 66,
     "metadata": {},
     "output_type": "execute_result"
    }
   ],
   "source": [
    "partitions.adj_"
   ],
   "metadata": {
    "collapsed": false,
    "pycharm": {
     "name": "#%%\n"
    }
   }
  },
  {
   "cell_type": "code",
   "execution_count": 54,
   "outputs": [],
   "source": [
    "weighted_degrees_p0 = weighted_degrees[partitions[0].ndata['_ID']]\n",
    "edge_weights_p0 = edge_weight[partitions[0].edata['_ID']]"
   ],
   "metadata": {
    "collapsed": false,
    "pycharm": {
     "name": "#%%\n"
    }
   }
  },
  {
   "cell_type": "code",
   "execution_count": 55,
   "outputs": [
    {
     "data": {
      "text/plain": "tensor([383408, 125711, 479035])"
     },
     "execution_count": 55,
     "metadata": {},
     "output_type": "execute_result"
    }
   ],
   "source": [
    "partitions[0].edges()[0][partitions[0].edges()[1] == 292438]"
   ],
   "metadata": {
    "collapsed": false,
    "pycharm": {
     "name": "#%%\n"
    }
   }
  },
  {
   "cell_type": "code",
   "execution_count": 56,
   "outputs": [
    {
     "data": {
      "text/plain": "tensor(2.2358)"
     },
     "execution_count": 56,
     "metadata": {},
     "output_type": "execute_result"
    }
   ],
   "source": [
    "weighted_degrees_p0[292438]"
   ],
   "metadata": {
    "collapsed": false,
    "pycharm": {
     "name": "#%%\n"
    }
   }
  },
  {
   "cell_type": "code",
   "execution_count": 60,
   "outputs": [
    {
     "data": {
      "text/plain": "tensor(1.6434)"
     },
     "execution_count": 60,
     "metadata": {},
     "output_type": "execute_result"
    }
   ],
   "source": [
    "edge_weights_p0[partitions[0].edges()[1] == 292438].sum()"
   ],
   "metadata": {
    "collapsed": false,
    "pycharm": {
     "name": "#%%\n"
    }
   }
  }
 ],
 "metadata": {
  "kernelspec": {
   "display_name": "Python 3",
   "language": "python",
   "name": "python3"
  },
  "language_info": {
   "codemirror_mode": {
    "name": "ipython",
    "version": 2
   },
   "file_extension": ".py",
   "mimetype": "text/x-python",
   "name": "python",
   "nbconvert_exporter": "python",
   "pygments_lexer": "ipython2",
   "version": "2.7.6"
  }
 },
 "nbformat": 4,
 "nbformat_minor": 0
}