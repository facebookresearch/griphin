{
 "cells": [
  {
   "cell_type": "code",
   "execution_count": 2,
   "metadata": {
    "collapsed": true
   },
   "outputs": [
    {
     "data": {
      "text/plain": "2000"
     },
     "execution_count": 2,
     "metadata": {},
     "output_type": "execute_result"
    }
   ],
   "source": [
    "import torch\n",
    "import sys\n",
    "\n",
    "NUM_DATA = 500\n",
    "t = torch.rand(NUM_DATA, dtype=torch.float32)\n",
    "t.element_size() * t.numel()"
   ]
  },
  {
   "cell_type": "code",
   "execution_count": 4,
   "outputs": [],
   "source": [
    "from ogb.nodeproppred import PygNodePropPredDataset\n",
    "import torch_geometric.transforms as T\n",
    "import os.path as osp\n",
    "\n",
    "path = osp.join('/data/gangda', 'ogb')\n",
    "dataset = PygNodePropPredDataset(name='ogbn-products', root=path, transform=T.ToSparseTensor())\n",
    "data = dataset[0]"
   ],
   "metadata": {
    "collapsed": false,
    "pycharm": {
     "name": "#%%\n"
    }
   }
  },
  {
   "cell_type": "code",
   "execution_count": 20,
   "outputs": [
    {
     "data": {
      "text/plain": "SparseTensor(row=tensor([      0,       0,       0,  ..., 2449028, 2449028, 2449028]),\n             col=tensor([    384,    2412,    7554,  ..., 1787657, 1864057, 2430488]),\n             val=tensor([0.3932, 0.8904, 0.9028,  ..., 0.4292, 0.5621, 0.6839]),\n             size=(2449029, 2449029), nnz=123718280, density=0.00%)"
     },
     "execution_count": 20,
     "metadata": {},
     "output_type": "execute_result"
    }
   ],
   "source": [
    "data.adj_t.set_value_(torch.rand(data.num_edges), layout='csc')"
   ],
   "metadata": {
    "collapsed": false,
    "pycharm": {
     "name": "#%%\n"
    }
   }
  },
  {
   "cell_type": "code",
   "execution_count": 22,
   "outputs": [
    {
     "name": "stdout",
     "output_type": "stream",
     "text": [
      "Computing METIS partitioning with 4 parts... Done! [14.74s]\n",
      "Permuting data... Done! [29.68s]\n"
     ]
    }
   ],
   "source": [
    "from torch_geometric_autoscale import metis, permute, SubgraphLoader\n",
    "\n",
    "perm, ptr = metis(data.adj_t, 4, log=True)\n",
    "data_ = permute(data, perm, log=True)"
   ],
   "metadata": {
    "collapsed": false,
    "pycharm": {
     "name": "#%%\n"
    }
   }
  },
  {
   "cell_type": "code",
   "execution_count": 125,
   "outputs": [],
   "source": [
    "degree = data_.adj_t.sum(dim=1)\n",
    "indptr, indices, value = data_.adj_t.csr()"
   ],
   "metadata": {
    "collapsed": false,
    "pycharm": {
     "name": "#%%\n"
    }
   }
  },
  {
   "cell_type": "code",
   "execution_count": 134,
   "outputs": [
    {
     "name": "stdout",
     "output_type": "stream",
     "text": [
      "2.894808769226074\n"
     ]
    },
    {
     "data": {
      "text/plain": "2.8948090076446533"
     },
     "execution_count": 134,
     "metadata": {},
     "output_type": "execute_result"
    }
   ],
   "source": [
    "i = 0\n",
    "print(degree[i].item())\n",
    "value[indptr[i]:indptr[i+1]].sum().item()"
   ],
   "metadata": {
    "collapsed": false,
    "pycharm": {
     "name": "#%%\n"
    }
   }
  },
  {
   "cell_type": "code",
   "execution_count": 75,
   "outputs": [
    {
     "name": "stdout",
     "output_type": "stream",
     "text": [
      "Pre-processing subgraphs... Done! [3.67s]\n"
     ]
    }
   ],
   "source": [
    "data_list = list(SubgraphLoader(data_, ptr, batch_size=1, shuffle=False))\n",
    "sub_data = data_list[0]"
   ],
   "metadata": {
    "collapsed": false,
    "pycharm": {
     "name": "#%%\n"
    }
   }
  },
  {
   "cell_type": "code",
   "execution_count": 84,
   "outputs": [
    {
     "data": {
      "text/plain": "tensor(2.8948)"
     },
     "execution_count": 84,
     "metadata": {},
     "output_type": "execute_result"
    }
   ],
   "source": [
    "res = sub_data.data.adj_t.csr()\n",
    "res[2][:6].sum()"
   ],
   "metadata": {
    "collapsed": false,
    "pycharm": {
     "name": "#%%\n"
    }
   }
  },
  {
   "cell_type": "code",
   "execution_count": 86,
   "outputs": [
    {
     "data": {
      "text/plain": "SparseTensor(row=tensor([      0,       0,       0,  ..., 2449028, 2449028, 2449028]),\n             col=tensor([    384,    2412,    7554,  ..., 1787657, 1864057, 2430488]),\n             val=tensor([0.7309, 0.3331, 0.4298,  ..., 0.7652, 0.4662, 0.5261]),\n             size=(2449029, 2449029), nnz=123718280, density=0.00%)"
     },
     "execution_count": 86,
     "metadata": {},
     "output_type": "execute_result"
    }
   ],
   "source": [
    "adj = data.adj_t.t()\n",
    "perm, ptr = metis(adj, 4, log=True)\n",
    "data_ = permute(data, perm, log=True)"
   ],
   "metadata": {
    "collapsed": false,
    "pycharm": {
     "name": "#%%\n"
    }
   }
  },
  {
   "cell_type": "code",
   "execution_count": 85,
   "outputs": [
    {
     "data": {
      "text/plain": "tensor([ 2.8948,  8.1311,  5.3858,  ...,  4.2185, 61.1699, 19.1762])"
     },
     "execution_count": 85,
     "metadata": {},
     "output_type": "execute_result"
    }
   ],
   "source": [
    "data_.adj_t.sum(dim=1).to(torch.float)"
   ],
   "metadata": {
    "collapsed": false,
    "pycharm": {
     "name": "#%%\n"
    }
   }
  }
 ],
 "metadata": {
  "kernelspec": {
   "display_name": "Python 3",
   "language": "python",
   "name": "python3"
  },
  "language_info": {
   "codemirror_mode": {
    "name": "ipython",
    "version": 2
   },
   "file_extension": ".py",
   "mimetype": "text/x-python",
   "name": "python",
   "nbconvert_exporter": "python",
   "pygments_lexer": "ipython2",
   "version": "2.7.6"
  }
 },
 "nbformat": 4,
 "nbformat_minor": 0
}